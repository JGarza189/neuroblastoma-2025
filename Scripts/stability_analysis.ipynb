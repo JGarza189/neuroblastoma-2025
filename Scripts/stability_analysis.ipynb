{
 "cells": [
  {
   "cell_type": "markdown",
   "id": "cfd759bf-0101-4312-a18b-5d76ee8c7b8e",
   "metadata": {},
   "source": [
    "## Setup"
   ]
  },
  {
   "cell_type": "markdown",
   "id": "19ef4d39-5bc4-4dc2-9d86-3805319b8ed1",
   "metadata": {},
   "source": [
    "Import SymPy for manipulating equations and quantities. First two imports are quite broad, but can be nice to have in an interactive environment. SciPy, Pandas, and Seaborn are used for numerical modeling. IPython's `display` function will be used throughout as an alternative for `print()`."
   ]
  },
  {
   "cell_type": "code",
   "execution_count": 1,
   "id": "122eab12-8a98-40a5-8612-81d995be87db",
   "metadata": {},
   "outputs": [],
   "source": [
    "%load_ext autoreload\n",
    "%autoreload 2\n",
    "\n",
    "from sympy.abc import *\n",
    "from sympy import *\n",
    "from sympy import S\n",
    "import sympy\n",
    "from sympy.physics.units.quantities import Quantity\n",
    "from sympy.physics.units import day\n",
    "\n",
    "from scipy.integrate import solve_ivp\n",
    "import pandas as pd\n",
    "from matplotlib import pyplot as plt\n",
    "import seaborn as sns\n",
    "import plotly.express as px\n",
    "from plotly.subplots import make_subplots\n",
    "import plotly.graph_objects as go\n",
    "\n",
    "from pathlib import Path\n",
    "import tomlkit\n",
    "\n",
    "import IPython.display\n",
    "from IPython.display import display, Markdown, Image\n",
    "\n",
    "import modeling_utils\n",
    "import numpy as np\n",
    "import kdl"
   ]
  },
  {
   "cell_type": "code",
   "execution_count": 2,
   "id": "7cf3f3e5-1484-4bc5-9498-21144cfb571c",
   "metadata": {},
   "outputs": [],
   "source": [
    "def print_md(*items, sep=' '):\n",
    "    display(Markdown(data=sep.join([str(item) for item in items])))\n",
    "\n",
    "pmd = print_md"
   ]
  },
  {
   "cell_type": "markdown",
   "id": "a4b0fac7-1995-4622-9039-301aea3bc533",
   "metadata": {},
   "source": [
    "From https://stackoverflow.com/a/51138039. The expression is simplified first to help combine and eliminate units. We make an exception for values of $-1$, since SymPy might represent some division operations as something like `Pow(units, Integer(-1))`, and substituting $1$ for $-1$ completely changes the meaning of the expression in that context. The absolute value of the final expression is taken to replace things like `Mul(-1, units)` with `units`."
   ]
  },
  {
   "cell_type": "code",
   "execution_count": 3,
   "id": "8a96440a-5e31-42c0-aaaa-bfebaaa6ec7c",
   "metadata": {},
   "outputs": [],
   "source": [
    "def units(expr):\n",
    "    expr = simplify(expr)\n",
    "    return abs(expr.subs({x: 1 for x in expr.args\n",
    "                               if not x.has(Quantity)\n",
    "                                  and x != -1}))"
   ]
  },
  {
   "cell_type": "markdown",
   "id": "9b322358-06fc-4466-9607-feaf676f0251",
   "metadata": {},
   "source": [
    "We'll be creating (and recreating) many symbols in this document, so this is a convenience function for the sake of the interactive environment."
   ]
  },
  {
   "cell_type": "code",
   "execution_count": 4,
   "id": "7aa20168-1a76-4ca9-8d4b-81517796bb1a",
   "metadata": {},
   "outputs": [],
   "source": [
    "def create_symbol_globals(symbols):\n",
    "    global_vars = globals()\n",
    "    for symbol in symbols:\n",
    "        if symbol.name.isidentifier():\n",
    "            global_vars[symbol.name] = symbol"
   ]
  },
  {
   "cell_type": "markdown",
   "id": "98d852af-bbc7-46ec-9a81-7c956701d336",
   "metadata": {},
   "source": [
    "Similarly, this will help us evaluate the stability of a system using the Jacobian and eigenvalues."
   ]
  },
  {
   "cell_type": "code",
   "execution_count": 5,
   "id": "dff2a865-ae1e-400e-bd52-1ba5413979fd",
   "metadata": {},
   "outputs": [],
   "source": [
    "def run_jacobian_steps(jacobian, subs):\n",
    "    new_jacobian = jacobian.subs(subs).subs(subs)\n",
    "    sub_str = ', '.join([\n",
    "        f'''${latex(sym.subs({free_sym: 0\n",
    "                            for free_sym in sym.free_symbols}))\n",
    "           }={latex(val)}$''' for sym, val in subs.items()])\n",
    "    pmd(f'For {sub_str}, the Jacobian is')\n",
    "\n",
    "    J = MatrixSymbol('J', jacobian.shape[0], jacobian.shape[1])\n",
    "    \n",
    "    #display(Eq(J, simplify(new_jacobian)))\n",
    "    display(Eq(J, new_jacobian))\n",
    "    \n",
    "    for val, mult in new_jacobian.eigenvals().items():\n",
    "        #val = simplify(val)\n",
    "        output = f'${latex(val)}$ is an eigenvalue' \\\n",
    "                 f' with a multiplicity of {mult} '\n",
    "        pmd(output)\n",
    "        print()"
   ]
  },
  {
   "cell_type": "markdown",
   "id": "0bcd2e6d-8542-438f-9375-d5c29ead8bfc",
   "metadata": {},
   "source": [
    "And this will allow us to construct numerical models from the symbolic equations and parameters."
   ]
  },
  {
   "cell_type": "code",
   "execution_count": 6,
   "id": "bf5acec5-74f8-4771-a95f-c5e1dd9e8392",
   "metadata": {},
   "outputs": [],
   "source": [
    "def mk_model(system, unknowns, params, drugs):\n",
    "\n",
    "    model = Matrix([system[var].rhs\n",
    "                    for var in unknowns\n",
    "                    if var in system]\n",
    "                  ).subs(params)\n",
    "    \n",
    "    display(Eq(Matrix([system[var].lhs\n",
    "                       for var in unknowns\n",
    "                       if var in system]), model))\n",
    "\n",
    "    #drug_level_diffs = [total.derivative() for total in drugs]\n",
    "    drug_level_diffs = [lambda _: 0 for total in drugs]\n",
    "    \n",
    "    lambdafied = lambdify(unknowns, model)\n",
    "    \n",
    "    def eval_model(t, y):\n",
    "        return list(lambdafied(t, *y[:-2], *[levels(t) for levels in drugs])[:,0]) + [level(t) for level in drug_level_diffs]\n",
    "    return eval_model"
   ]
  },
  {
   "cell_type": "markdown",
   "id": "092796e3-e8ed-49a7-99fc-c2f7ee5bd460",
   "metadata": {},
   "source": [
    "While SymPy already has a `day` unit, we need to create quantities for cells and the dose of the CTL stimulant."
   ]
  },
  {
   "cell_type": "code",
   "execution_count": 7,
   "id": "2b76dbbc-0b37-4b8f-b575-87cfd1f81966",
   "metadata": {},
   "outputs": [],
   "source": [
    "cell = Quantity('cell')\n",
    "dose = Quantity('dose')"
   ]
  },
  {
   "cell_type": "markdown",
   "id": "0f2fe6cd-fc20-490b-8098-12d72680eec3",
   "metadata": {},
   "source": [
    "Create representations of the functions $N$, $L$, $T$, and their derivatives. We keep $t$ unitless here, since `sympy.diff()` can't handle things like `t*day`. The derivatives are basically only for cosmetic purposes."
   ]
  },
  {
   "cell_type": "code",
   "execution_count": 8,
   "id": "bd6b0778-77f6-4242-9fd0-de1809ae3b91",
   "metadata": {},
   "outputs": [],
   "source": [
    "t = symbols('t')\n",
    "\n",
    "N = Function('N')(t) * cell\n",
    "Np = N.diff(t)/day\n",
    "\n",
    "L = Function('L')(t) * cell\n",
    "Lp = L.diff(t)/day\n",
    "\n",
    "T = Function('T')(t) * cell\n",
    "Tp = T.diff(t)/day\n",
    "\n",
    "I_2 = Function('I_2')(t) * dose\n",
    "I_2p = I_2.diff(t)/day\n",
    "\n",
    "C = Function('C')(t) * dose\n",
    "Cp = C.diff(t)/day"
   ]
  },
  {
   "cell_type": "markdown",
   "id": "f1f7ee90-431c-4913-b996-484f5ea78fdd",
   "metadata": {},
   "source": [
    "Create symbols for the model parameters and assign units to them to double-check the results we'll have from the dimensional analysis and non-dimensionalization."
   ]
  },
  {
   "cell_type": "code",
   "execution_count": 9,
   "id": "5926e2b5-4d2b-444d-acea-a7e3c5f73f1a",
   "metadata": {},
   "outputs": [],
   "source": [
    "base_params = symbols('''a_1, b, a_2, alpha_1, k_i\n",
    "                    r_1, mu, beta_1,\n",
    "                    c, d, alpha_2, beta_2, k_c,\n",
    "                    h_i, h_c''',\n",
    "                 positive=True, real=True)\n",
    "create_symbol_globals(base_params)\n",
    "\n",
    "a_1 = a_1/day\n",
    "b = b/cell\n",
    "a_2 = a_2/day\n",
    "c = c/day\n",
    "d = d/cell\n",
    "r_1 = r_1/cell/day\n",
    "mu = mu/day\n",
    "alpha_1 = alpha_1/cell/day\n",
    "alpha_2 = alpha_2/cell/day\n",
    "beta_1 = beta_1/cell/day\n",
    "beta_2 = beta_2/cell/day\n",
    "k_i = k_i*cell/dose/day\n",
    "k_c = k_c*cell/dose/day\n",
    "h_i = h_i*day\n",
    "h_c = h_c*day\n",
    "\n",
    "t = t*day"
   ]
  },
  {
   "cell_type": "markdown",
   "id": "c6e1bed9-8b35-4401-ab34-038268e07330",
   "metadata": {},
   "source": [
    "## Dimensional Analysis"
   ]
  },
  {
   "cell_type": "markdown",
   "id": "1dec12f4-d599-4a79-8f14-4b5d502fe650",
   "metadata": {},
   "source": [
    "### Basic Consistency check\n",
    "First we construct the system of equations and confirm the units are consistent."
   ]
  },
  {
   "cell_type": "code",
   "execution_count": 10,
   "id": "ff8440e5-3465-4336-be1e-ebdd7240d2b8",
   "metadata": {},
   "outputs": [
    {
     "data": {
      "text/latex": [
       "$\\displaystyle \\frac{\\frac{d}{d t} N{\\left(t \\right)} \\text{cell}}{\\text{day}} = \\frac{a_{1} \\left(- b N{\\left(t \\right)} + 1\\right) N{\\left(t \\right)} \\text{cell}}{\\text{day}} - \\frac{a_{2} N{\\left(t \\right)} \\text{cell}}{\\text{day}} - \\frac{\\alpha_{1} N{\\left(t \\right)} T{\\left(t \\right)} \\text{cell}}{\\text{day}} + \\frac{k_{i} I_{2}{\\left(t \\right)} \\text{cell}}{\\text{day}}$"
      ],
      "text/plain": [
       "Eq(cell*Derivative(N(t), t)/day, cell*a_1*(-b*N(t) + 1)*N(t)/day - cell*a_2*N(t)/day - cell*alpha_1*N(t)*T(t)/day + cell*k_i*I_2(t)/day)"
      ]
     },
     "metadata": {},
     "output_type": "display_data"
    },
    {
     "name": "stdout",
     "output_type": "stream",
     "text": [
      "Units are consistent (cell/day)\n"
     ]
    },
    {
     "data": {
      "text/latex": [
       "$\\displaystyle \\frac{\\frac{d}{d t} L{\\left(t \\right)} \\text{cell}}{\\text{day}} = - \\frac{\\beta_{1} L{\\left(t \\right)} T{\\left(t \\right)} \\text{cell}}{\\text{day}} - \\frac{\\mu L{\\left(t \\right)} \\text{cell}}{\\text{day}} + \\frac{r_{1} N{\\left(t \\right)} T{\\left(t \\right)} \\text{cell}}{\\text{day}}$"
      ],
      "text/plain": [
       "Eq(cell*Derivative(L(t), t)/day, -cell*beta_1*L(t)*T(t)/day - cell*mu*L(t)/day + cell*r_1*N(t)*T(t)/day)"
      ]
     },
     "metadata": {},
     "output_type": "display_data"
    },
    {
     "name": "stdout",
     "output_type": "stream",
     "text": [
      "Units are consistent (cell/day)\n"
     ]
    },
    {
     "data": {
      "text/latex": [
       "$\\displaystyle \\frac{\\frac{d}{d t} T{\\left(t \\right)} \\text{cell}}{\\text{day}} = - \\frac{\\alpha_{2} N{\\left(t \\right)} T{\\left(t \\right)} \\text{cell}}{\\text{day}} - \\frac{\\beta_{2} L{\\left(t \\right)} T{\\left(t \\right)} \\text{cell}}{\\text{day}} + \\frac{c \\left(- d T{\\left(t \\right)} + 1\\right) T{\\left(t \\right)} \\text{cell}}{\\text{day}} - \\frac{k_{c} C{\\left(t \\right)} \\text{cell}}{\\text{day}}$"
      ],
      "text/plain": [
       "Eq(cell*Derivative(T(t), t)/day, -cell*alpha_2*N(t)*T(t)/day - cell*beta_2*L(t)*T(t)/day + cell*c*(-d*T(t) + 1)*T(t)/day - cell*k_c*C(t)/day)"
      ]
     },
     "metadata": {},
     "output_type": "display_data"
    },
    {
     "name": "stdout",
     "output_type": "stream",
     "text": [
      "Units are consistent (cell/day)\n"
     ]
    },
    {
     "data": {
      "text/latex": [
       "$\\displaystyle \\frac{\\frac{d}{d t} I_{2}{\\left(t \\right)} \\text{dose}}{\\text{day}} = - \\frac{2^{- \\frac{t}{h_{i}}} I_{2}{\\left(0 \\right)} \\log{\\left(2 \\right)} \\text{dose}}{h_{i} \\text{day}}$"
      ],
      "text/plain": [
       "Eq(dose*Derivative(I_2(t), t)/day, -dose*I_2(0)*log(2)/(2**(t/h_i)*day*h_i))"
      ]
     },
     "metadata": {},
     "output_type": "display_data"
    },
    {
     "name": "stdout",
     "output_type": "stream",
     "text": [
      "Units are consistent (dose/day)\n"
     ]
    },
    {
     "data": {
      "text/latex": [
       "$\\displaystyle \\frac{\\frac{d}{d t} C{\\left(t \\right)} \\text{dose}}{\\text{day}} = - \\frac{2^{- \\frac{t}{h_{c}}} C{\\left(0 \\right)} \\log{\\left(2 \\right)} \\text{dose}}{h_{c} \\text{day}}$"
      ],
      "text/plain": [
       "Eq(dose*Derivative(C(t), t)/day, -dose*C(0)*log(2)/(2**(t/h_c)*day*h_c))"
      ]
     },
     "metadata": {},
     "output_type": "display_data"
    },
    {
     "name": "stdout",
     "output_type": "stream",
     "text": [
      "Units are consistent (dose/day)\n"
     ]
    }
   ],
   "source": [
    "system = {\n",
    "    N: Eq(Np, a_1*N*(1-b*N) - a_2*N - alpha_1*N*T + k_i*I_2),\n",
    "    L: Eq(Lp, r_1*N*T - mu*L - beta_1*L*T),\n",
    "    T: Eq(Tp, c*T*(1-d*T) - alpha_2*N*T - beta_2*L*T - k_c*C),\n",
    "    I_2: Eq(I_2p, -ln(2)*I_2.subs({t/day: 0})*2**(-t/h_i)/h_i),\n",
    "    C: Eq(Cp, -ln(2)*C.subs({t/day: 0})*2**(-t/h_c)/h_c),\n",
    "}\n",
    "\n",
    "for equation in system.values():\n",
    "    display(equation)\n",
    "    lhs_units = units(equation.lhs)\n",
    "    rhs_units = units(equation.rhs)\n",
    "    if lhs_units == rhs_units:\n",
    "        print(f'Units are consistent ({lhs_units})')\n",
    "    else:\n",
    "        print('Inconsistent units!')\n",
    "        print('LHS: ', lhs_units)\n",
    "        print('RHS: ', rhs_units)"
   ]
  },
  {
   "cell_type": "markdown",
   "id": "ac4c7281-7c54-4070-a57b-cbaa154d1e72",
   "metadata": {},
   "source": [
    "### Nondimensionalization\n",
    "Now we nondimensionalize the model."
   ]
  },
  {
   "cell_type": "markdown",
   "id": "85031a1b-7656-4db6-a6a3-04e30e239442",
   "metadata": {},
   "source": [
    "The initial equations are:\n",
    "\n",
    "$N'(t) = \\frac{d N(t)}{dt} = a N(t)(1-b N(t)) - \\alpha_1 N(t) T(t)$\n",
    "\n",
    "$L'(t) = \\frac{d L(t)}{dt} = r_1 N(t) T(t) + r_2 I_0 2^{-\\frac{t}{h}} - \\mu L(t) - \\beta_1 L(t) T(t)$\n",
    "\n",
    "$T'(t) = \\frac{d T(t)}{dt} = c T(t) (1-d T(t)) - \\alpha_2 N(t) T(t) - \\beta_2 L(t) T(t)$\n",
    "\n",
    "$D'(t) = -\\frac{\\log(2)}{h} D_0 2^{-\\frac{t}{h}}$"
   ]
  },
  {
   "cell_type": "markdown",
   "id": "4ece7edf-c361-4727-b05d-96ee9ef68c59",
   "metadata": {},
   "source": [
    "Which we rewrite with the following substitutions:\n",
    "\n",
    "$\\tilde{N} = \\frac{\\alpha_2}{\\mu}N\n",
    " \\left[\\frac{cell^{-1} day^{-1}}{day^{-1}} cell \\right]\n",
    " \\Rightarrow N = \\frac{\\mu}{\\alpha_2}\\tilde{N}$\n",
    "\n",
    "$\\tilde{L} = \\frac{\\alpha_1 \\alpha_2}{r_1 \\mu} L\n",
    " \\left[\\frac{(cell^{-1} day^{-1}) (cell^{-1} day^{-1})}{(cell^{-1} day^{-1}) (day^{-1})} cell \\right]\n",
    " \\Rightarrow L = \\frac{r_1 \\mu}{\\alpha_1 \\alpha_2} \\tilde{L}$\n",
    "\n",
    "$\\tilde{T} = \\frac{\\alpha_1}{\\mu}T\n",
    " \\left[\\frac{cell^{-1} day^{-1}}{day^{-1}} cell \\right]\n",
    " \\Rightarrow T = \\frac{\\mu}{\\alpha_1}\\tilde{T}$\n",
    "\n",
    "$\\tau = \\mu t\n",
    " \\left[(day^{-1}) (day)\\right]\n",
    " \\Rightarrow t = \\frac{1}{\\mu} \\tau\n",
    " \\Rightarrow dt = \\frac{1}{\\mu} d \\tau$\n",
    "\n",
    "$\\tilde{h} = \\mu h\n",
    " \\left[(day^{-1}) (day)\\right]\n",
    " \\Rightarrow h = \\frac{1}{\\mu} \\tilde{h}$\n",
    "\n",
    "$\\tilde{D} = \\frac{r_2}{T(0) \\mu} D\n",
    " \\left[\\frac{day^{-1} dose^{-1} cell}{(cell)(day^{-1})} dose \\right]\n",
    " \\Rightarrow D = \\frac{T(0) \\mu}{r_2} \\tilde{D}$"
   ]
  },
  {
   "cell_type": "markdown",
   "id": "0b3e8ad8-3b20-445b-b5eb-7f8420abe487",
   "metadata": {},
   "source": [
    "For equation 1, this gives us:\n",
    "\n",
    "$dN = (a_1 N (1 - b N) - a_2 N - \\alpha_1 N T)dt$\n",
    "\n",
    "$d(\\frac{\\mu}{\\alpha_2}\\tilde{N}) = (a_1 (\\frac{\\mu}{\\alpha_2}\\tilde{N}) (1 - b (\\frac{\\mu}{\\alpha_2}\\tilde{N})) - a_2 (\\frac{\\mu}{\\alpha_2}\\tilde{N}) - \\alpha_1 (\\frac{\\mu}{\\alpha_2}\\tilde{N}) (\\frac{\\mu}{\\alpha_1}\\tilde{T}))(\\frac{1}{\\mu} d \\tau)$\n",
    "\n",
    "$d\\tilde{N} = (\\frac{\\alpha_2}{\\mu^2})(a_1 (\\frac{\\mu}{\\alpha_2}\\tilde{N}) (1 - b (\\frac{\\mu}{\\alpha_2}\\tilde{N})) - a_2 (\\frac{\\mu}{\\alpha_2}\\tilde{N}) - \\alpha_1 (\\frac{\\mu}{\\alpha_2}\\tilde{N}) (\\frac{\\mu}{\\alpha_1}\\tilde{T}))d \\tau$\n",
    "\n",
    "$d\\tilde{N} = (\\frac{1}{\\mu^2})(a_1 (\\mu\\tilde{N}) (1 - b (\\frac{\\mu}{\\alpha_2}\\tilde{N})) - a_2 (\\mu\\tilde{N}) - \\alpha_1 (\\mu\\tilde{N}) (\\frac{\\mu}{\\alpha_1}\\tilde{T}))d \\tau$\n",
    "\n",
    "$d\\tilde{N} = (\\frac{1}{\\mu})(a_1 (\\tilde{N}) (1 - b (\\frac{\\mu}{\\alpha_2}\\tilde{N})) - a_2 (\\tilde{N}) - \\alpha_1 (\\tilde{N}) (\\frac{\\mu}{\\alpha_1}\\tilde{T}))d \\tau$\n",
    "\n",
    "$d\\tilde{N} = (\\frac{1}{\\mu})(a_1 (\\tilde{N}) (1 - b (\\frac{\\mu}{\\alpha_2}\\tilde{N})) - a_2 (\\tilde{N}) - (\\tilde{N}) (\\mu\\tilde{T}))d \\tau$\n",
    "\n",
    "$d\\tilde{N} = (\\frac{1}{\\mu})(a_1 \\tilde{N} (1 - \\frac{b \\mu}{\\alpha_2}\\tilde{N}) - a_2 \\tilde{N} - \\mu \\tilde{N} \\tilde{T})d \\tau$\n",
    "\n",
    "$d\\tilde{N} = (\\frac{a_1}{\\mu} \\tilde{N} (1 - \\frac{b \\mu}{\\alpha_2}\\tilde{N}) - \\frac{a_2}{\\mu} \\tilde{N} - \\tilde{N} \\tilde{T})d \\tau$\n",
    "\n",
    "$\\tilde{N}' = \\frac{a_1}{\\mu} \\tilde{N} (1 - \\frac{b \\mu}{\\alpha_2}\\tilde{N}) - \\frac{a_2}{\\mu} \\tilde{N} - \\tilde{N} \\tilde{T}$"
   ]
  },
  {
   "cell_type": "markdown",
   "id": "00f36ccf-b86a-4a76-8680-e7e96202eca9",
   "metadata": {},
   "source": [
    "For equation 2, this gives us:\n",
    "\n",
    "$dL = (r_1 N T + r_2 D - \\mu L - \\beta_1 L T)dt$\n",
    "\n",
    "$d(\\frac{r_1 \\mu}{\\alpha_1 \\alpha_2} \\tilde{L}) = (r_1 (\\frac{\\mu}{\\alpha_2}\\tilde{N}) (\\frac{\\mu}{\\alpha_1}\\tilde{T}) + r_2 (\\frac{T(0) \\mu}{r_2} \\tilde{D}) - \\mu (\\frac{r_1 \\mu}{\\alpha_1 \\alpha_2} \\tilde{L}) - \\beta_1 (\\frac{r_1 \\mu}{\\alpha_1 \\alpha_2} \\tilde{L}) (\\frac{\\mu}{\\alpha_1}\\tilde{T}))(\\frac{1}{\\mu} d \\tau)$\n",
    "\n",
    "$d\\tilde{L} = (\\frac{\\alpha_1 \\alpha_2}{r_1 \\mu^2})((\\frac{r_1 \\mu^2}{\\alpha_1 \\alpha_2}) \\tilde{N} \\tilde{T} + (T(0) \\mu) \\tilde{D} - (\\frac{r_1 \\mu^2}{\\alpha_1 \\alpha_2} \\tilde{L}) - (\\frac{\\beta_1 r_1 \\mu^2}{\\alpha_1^2 \\alpha_2}) \\tilde{L} \\tilde{T})d \\tau$\n",
    "\n",
    "$d\\tilde{L} = (\\tilde{N} \\tilde{T} + (\\frac{T(0) \\alpha_1 \\alpha_2}{r_1 \\mu}) \\tilde{D} - \\tilde{L} - (\\frac{\\beta_1}{\\alpha_1}) \\tilde{L} \\tilde{T})d \\tau$\n",
    "\n",
    "$\\tilde{L}' = \\tilde{N} \\tilde{T} + \\frac{T(0) \\alpha_1 \\alpha_2}{r_1 \\mu} \\tilde{D} - \\tilde{L} - \\frac{\\beta_1}{\\alpha_1} \\tilde{L} \\tilde{T}$"
   ]
  },
  {
   "cell_type": "markdown",
   "id": "5d73a397-46f9-4072-afa8-7ee907517ad6",
   "metadata": {},
   "source": [
    "For equation 3, this gives us:\n",
    "\n",
    "$dT = (c T (1 - d T) - \\alpha_2 N T - \\beta_2 L T)dt$\n",
    "\n",
    "$d(\\frac{\\mu}{\\alpha_1}\\tilde{T}) = (c (\\frac{\\mu}{\\alpha_1}\\tilde{T}) (1 - d (\\frac{\\mu}{\\alpha_1}\\tilde{T})) - \\alpha_2 (\\frac{\\mu}{\\alpha_2}\\tilde{N}) (\\frac{\\mu}{\\alpha_1}\\tilde{T}) - \\beta_2 (\\frac{r_1 \\mu}{\\alpha_1 \\alpha_2} \\tilde{L}) (\\frac{\\mu}{\\alpha_1}\\tilde{T}))(\\frac{1}{\\mu} d \\tau)$\n",
    "\n",
    "$d\\tilde{T} = (\\frac{\\alpha_1}{\\mu^2})(c (\\frac{\\mu}{\\alpha_1}\\tilde{T}) (1 - d (\\frac{\\mu}{\\alpha_1}\\tilde{T})) - \\alpha_2 (\\frac{\\mu}{\\alpha_2}\\tilde{N}) (\\frac{\\mu}{\\alpha_1}\\tilde{T}) - \\beta_2 (\\frac{r_1 \\mu}{\\alpha_1 \\alpha_2} \\tilde{L}) (\\frac{\\mu}{\\alpha_1}\\tilde{T}))d \\tau$\n",
    "\n",
    "$d\\tilde{T} = (\\frac{\\alpha_1}{\\mu^2})(c (\\frac{\\mu}{\\alpha_1}\\tilde{T}) (1 - d (\\frac{\\mu}{\\alpha_1}\\tilde{T})) - (\\frac{\\mu^2}{\\alpha_1}) \\tilde{N} \\tilde{T} - \\beta_2 (\\frac{r_1 \\mu^2}{\\alpha_1^2 \\alpha_2}) \\tilde{L} \\tilde{T})d \\tau$\n",
    "\n",
    "$d\\tilde{T} = ((\\frac{c}{\\mu})\\tilde{T} (1 - d (\\frac{\\mu}{\\alpha_1}\\tilde{T})) - \\tilde{N} \\tilde{T} - (\\frac{\\beta_2 r_1}{\\alpha_1 \\alpha_2}) \\tilde{L} \\tilde{T})d \\tau$\n",
    "\n",
    "$\\tilde{T}' = \\frac{c}{\\mu}\\tilde{T} (1 - \\frac{d\\mu }{\\alpha_1}\\tilde{T}) - \\tilde{N} \\tilde{T} - \\frac{\\beta_2 r_1}{\\alpha_1 \\alpha_2} \\tilde{L} \\tilde{T}$"
   ]
  },
  {
   "cell_type": "markdown",
   "id": "f1964b95-9962-4c76-b5ed-50743572d429",
   "metadata": {},
   "source": [
    "For equation 4, this gives us:\n",
    "\n",
    "$dD = (-\\frac{\\log(2)}{h} D_0 2^{-\\frac{t}{h}})dt$\n",
    "\n",
    "$d(\\frac{T(0) \\mu}{r_2} \\tilde{D}) = (-\\frac{\\log(2)}{\\frac{1}{\\mu} \\tilde{h}} D_0 2^{-\\frac{\\frac{1}{\\mu} \\tau}{\\frac{1}{\\mu} \\tilde{h}}})(\\frac{1}{\\mu} d \\tau)$\n",
    "\n",
    "$d \\tilde{D} = (\\frac{r_2}{T(0) \\mu^2})(-\\frac{\\mu \\log(2)}{\\tilde{h}} D_0 2^{-\\frac{\\tau}{\\tilde{h}}})d \\tau$\n",
    "\n",
    "$d \\tilde{D} = (-\\frac{r_2 \\log(2)}{\\mu T(0) \\tilde{h}} D_0 2^{-\\frac{\\tau}{\\tilde{h}}})d \\tau$\n",
    "\n",
    "$\\tilde{D}' = -\\frac{r_2 \\log(2)}{\\mu T(0) \\tilde{h}} D_0 2^{-\\frac{\\tau}{\\tilde{h}}}$"
   ]
  },
  {
   "cell_type": "markdown",
   "id": "cbfcf4b2-69cf-4659-84fc-226bf1677bc3",
   "metadata": {},
   "source": [
    "So the non-dimensionalized system is\n",
    "\n",
    "$\\tilde{N}' = \\frac{a_1}{\\mu} \\tilde{N} (1 - \\frac{b \\mu}{\\alpha_2}\\tilde{N}) - \\frac{a_2}{\\mu} \\tilde{N} - \\tilde{N} \\tilde{T}$\n",
    "\n",
    "$\\tilde{L}' = \\tilde{N} \\tilde{T} + \\frac{T(0) \\alpha_1 \\alpha_2}{r_1 \\mu} \\tilde{D} - \\tilde{L} - \\frac{\\beta_1}{\\alpha_1} \\tilde{L} \\tilde{T}$\n",
    "\n",
    "$\\tilde{T}' = \\frac{c}{\\mu}\\tilde{T} (1 - \\frac{d\\mu }{\\alpha_1}\\tilde{T}) - \\tilde{N} \\tilde{T} - \\frac{\\beta_2 r_1}{\\alpha_1 \\alpha_2} \\tilde{L} \\tilde{T}$\n",
    "\n",
    "$\\tilde{D}' = -\\frac{r_2 \\log(2)}{\\mu T(0) \\tilde{h}} D_0 2^{-\\frac{\\tau}{\\tilde{h}}}$"
   ]
  },
  {
   "cell_type": "markdown",
   "id": "1656d7c9-4656-4ccd-bd16-47fc99ad61a2",
   "metadata": {},
   "source": [
    "To further reduce the number of parameters, we define the following,\n",
    "\n",
    "$p_1 = \\frac{a_1}{\\mu}$\n",
    "\n",
    "$p_2 = \\frac{a_2}{\\mu}$\n",
    "\n",
    "$q = \\frac{b \\mu}{\\alpha_2}$\n",
    "\n",
    "$r = \\frac{T(0) \\alpha_1 \\alpha_2}{r_1 \\mu}$\n",
    "\n",
    "$s = \\frac{\\beta_1}{\\alpha_1}$\n",
    "\n",
    "$u = \\frac{c}{\\mu}$\n",
    "\n",
    "$v = \\frac{du}{\\alpha_1}$\n",
    "\n",
    "$\\delta = \\frac{\\beta_2 r_1}{\\alpha_1 \\alpha_2}$\n",
    "\n",
    "$D_0^* = \\frac{r_2}{\\mu T(0)} D_0$"
   ]
  },
  {
   "cell_type": "markdown",
   "id": "f4e831bc-21e4-462c-b557-38ca63bee46d",
   "metadata": {},
   "source": [
    "And substitute:\n",
    "\n",
    "$\\tilde{N}' = p_1 \\tilde{N} (1 - q \\tilde{N}) - p_2 \\tilde{N} - \\tilde{N} \\tilde{T}$\n",
    "\n",
    "$\\tilde{L}' = \\tilde{N} \\tilde{T} + r \\tilde{D} - \\tilde{L} - s \\tilde{L} \\tilde{T}$\n",
    "\n",
    "$\\tilde{T}' = u \\tilde{T} (1 - v \\tilde{T}) - \\tilde{N} \\tilde{T} - \\delta \\tilde{L} \\tilde{T}$\n",
    "\n",
    "$\\tilde{D}' = -\\frac{\\log(2)}{\\tilde{h}} D_0^* 2^{-\\frac{\\tau}{\\tilde{h}}}$"
   ]
  },
  {
   "cell_type": "markdown",
   "id": "e5b31a8f-11e4-4ee6-9285-6d7f81d7fa6b",
   "metadata": {},
   "source": [
    "Rewriting (but *not* substituting) the unitless symbols ($\\tilde{N}$, $\\tilde{L}$, $\\tilde{T}$, $\\tilde{D}$, $\\tau$, $\\tilde{h}$) with the symbols for their counterparts ($N$, $L$, $T$, $D$, $t$, $h$) yields:\n",
    "\n",
    "$N' = p_1 N (1 - q N) - p_2 N - N T$\n",
    "\n",
    "$L' = N T + r D - L - s L T$\n",
    "\n",
    "$T' = u T (1 - v T) - N T - \\delta L T$\n",
    "\n",
    "$D' = -\\frac{\\log(2)}{h} D_0^* 2^{-\\frac{t}{h}}$"
   ]
  },
  {
   "cell_type": "markdown",
   "id": "15c3a400-8be7-4ac1-96a0-11048ea1e97b",
   "metadata": {},
   "source": [
    "### Consistency Check\n",
    "Now we double-check the units (or lack thereof) of this new system."
   ]
  },
  {
   "cell_type": "code",
   "execution_count": 11,
   "id": "37135b7b-e1d5-4abb-b7e9-fcec781d8c7f",
   "metadata": {},
   "outputs": [
    {
     "data": {
      "text/latex": [
       "$\\displaystyle \\frac{\\alpha_{1} k_{c} C{\\left(t \\right)}}{\\mu^{2}}$"
      ],
      "text/plain": [
       "alpha_1*k_c*C(t)/mu**2"
      ]
     },
     "execution_count": 11,
     "metadata": {},
     "output_type": "execute_result"
    }
   ],
   "source": [
    "C*k_c*alpha_1/mu**2"
   ]
  },
  {
   "cell_type": "code",
   "execution_count": 14,
   "id": "0a4c899d-6e27-4e01-8042-e12f48d94283",
   "metadata": {},
   "outputs": [
    {
     "name": "stdout",
     "output_type": "stream",
     "text": [
      "Substitutions:\n"
     ]
    },
    {
     "data": {
      "text/latex": [
       "$\\displaystyle N{\\left(t \\right)} \\text{cell} = \\frac{\\mu \\tilde{N}{\\left(t \\right)} \\text{cell}}{\\alpha_{2}}$"
      ],
      "text/plain": [
       "Eq(cell*N(t), cell*mu*\\tilde{N}(t)/alpha_2)"
      ]
     },
     "metadata": {},
     "output_type": "display_data"
    },
    {
     "data": {
      "text/latex": [
       "$\\displaystyle \\frac{\\frac{d}{d t} N{\\left(t \\right)} \\text{cell}}{\\text{day}} = \\frac{\\mu^{2} \\frac{d}{d t} \\tilde{N}{\\left(t \\right)} \\text{cell}}{\\alpha_{2} \\text{day}}$"
      ],
      "text/plain": [
       "Eq(cell*Derivative(N(t), t)/day, cell*mu**2*Derivative(\\tilde{N}(t), t)/(day*alpha_2))"
      ]
     },
     "metadata": {},
     "output_type": "display_data"
    },
    {
     "data": {
      "text/latex": [
       "$\\displaystyle L{\\left(t \\right)} \\text{cell} = \\frac{\\mu r_{1} \\tilde{L}{\\left(t \\right)} \\text{cell}}{\\alpha_{1} \\alpha_{2}}$"
      ],
      "text/plain": [
       "Eq(cell*L(t), cell*mu*r_1*\\tilde{L}(t)/(alpha_1*alpha_2))"
      ]
     },
     "metadata": {},
     "output_type": "display_data"
    },
    {
     "data": {
      "text/latex": [
       "$\\displaystyle \\frac{\\frac{d}{d t} L{\\left(t \\right)} \\text{cell}}{\\text{day}} = \\frac{\\mu^{2} r_{1} \\frac{d}{d t} \\tilde{L}{\\left(t \\right)} \\text{cell}}{\\alpha_{1} \\alpha_{2} \\text{day}}$"
      ],
      "text/plain": [
       "Eq(cell*Derivative(L(t), t)/day, cell*mu**2*r_1*Derivative(\\tilde{L}(t), t)/(day*alpha_1*alpha_2))"
      ]
     },
     "metadata": {},
     "output_type": "display_data"
    },
    {
     "data": {
      "text/latex": [
       "$\\displaystyle T{\\left(t \\right)} \\text{cell} = \\frac{\\mu \\tilde{T}{\\left(t \\right)} \\text{cell}}{\\alpha_{1}}$"
      ],
      "text/plain": [
       "Eq(cell*T(t), cell*mu*\\tilde{T}(t)/alpha_1)"
      ]
     },
     "metadata": {},
     "output_type": "display_data"
    },
    {
     "data": {
      "text/latex": [
       "$\\displaystyle \\frac{\\frac{d}{d t} T{\\left(t \\right)} \\text{cell}}{\\text{day}} = \\frac{\\mu^{2} \\frac{d}{d t} \\tilde{T}{\\left(t \\right)} \\text{cell}}{\\alpha_{1} \\text{day}}$"
      ],
      "text/plain": [
       "Eq(cell*Derivative(T(t), t)/day, cell*mu**2*Derivative(\\tilde{T}(t), t)/(day*alpha_1))"
      ]
     },
     "metadata": {},
     "output_type": "display_data"
    },
    {
     "data": {
      "text/latex": [
       "$\\displaystyle t \\text{day} = \\frac{\\tau \\text{day}}{\\mu}$"
      ],
      "text/plain": [
       "Eq(day*t, day*tau/mu)"
      ]
     },
     "metadata": {},
     "output_type": "display_data"
    },
    {
     "data": {
      "text/latex": [
       "$\\displaystyle h = \\frac{\\tilde{h} \\text{day}}{\\mu}$"
      ],
      "text/plain": [
       "Eq(h, day*\\tilde{h}/mu)"
      ]
     },
     "metadata": {},
     "output_type": "display_data"
    },
    {
     "data": {
      "text/latex": [
       "$\\displaystyle p_{1} = \\frac{a_{1}}{\\mu}$"
      ],
      "text/plain": [
       "Eq(p_1, a_1/mu)"
      ]
     },
     "metadata": {},
     "output_type": "display_data"
    },
    {
     "data": {
      "text/latex": [
       "$\\displaystyle p_{2} = \\frac{a_{2}}{\\mu}$"
      ],
      "text/plain": [
       "Eq(p_2, a_2/mu)"
      ]
     },
     "metadata": {},
     "output_type": "display_data"
    },
    {
     "data": {
      "text/latex": [
       "$\\displaystyle q = \\frac{b \\mu}{\\alpha_{2}}$"
      ],
      "text/plain": [
       "Eq(q, b*mu/alpha_2)"
      ]
     },
     "metadata": {},
     "output_type": "display_data"
    },
    {
     "data": {
      "text/latex": [
       "$\\displaystyle r = \\frac{\\alpha_{1} \\alpha_{2} T{\\left(0 \\right)}}{\\mu r_{1}}$"
      ],
      "text/plain": [
       "Eq(r, alpha_1*alpha_2*T(0)/(mu*r_1))"
      ]
     },
     "metadata": {},
     "output_type": "display_data"
    },
    {
     "data": {
      "text/latex": [
       "$\\displaystyle s = \\frac{\\beta_{1}}{\\alpha_{1}}$"
      ],
      "text/plain": [
       "Eq(s, beta_1/alpha_1)"
      ]
     },
     "metadata": {},
     "output_type": "display_data"
    },
    {
     "data": {
      "text/latex": [
       "$\\displaystyle u = \\frac{c}{\\mu}$"
      ],
      "text/plain": [
       "Eq(u, c/mu)"
      ]
     },
     "metadata": {},
     "output_type": "display_data"
    },
    {
     "data": {
      "text/latex": [
       "$\\displaystyle v = \\frac{d \\mu}{\\alpha_{1}}$"
      ],
      "text/plain": [
       "Eq(v, d*mu/alpha_1)"
      ]
     },
     "metadata": {},
     "output_type": "display_data"
    },
    {
     "data": {
      "text/latex": [
       "$\\displaystyle \\delta = \\frac{\\beta_{2} r_{1}}{\\alpha_{1} \\alpha_{2}}$"
      ],
      "text/plain": [
       "Eq(\\delta, beta_2*r_1/(alpha_1*alpha_2))"
      ]
     },
     "metadata": {},
     "output_type": "display_data"
    },
    {
     "name": "stdout",
     "output_type": "stream",
     "text": [
      "Resulting equations:\n"
     ]
    },
    {
     "data": {
      "text/latex": [
       "$\\displaystyle \\frac{d}{d t} \\tilde{N}{\\left(t \\right)} = \\frac{\\alpha_{2} k_{i} I_{2}{\\left(t \\right)}}{\\mu^{2}} - p_{1} q \\tilde{N}^{2}{\\left(t \\right)} + p_{1} \\tilde{N}{\\left(t \\right)} - p_{2} \\tilde{N}{\\left(t \\right)} - \\tilde{N}{\\left(t \\right)} \\tilde{T}{\\left(t \\right)}$"
      ],
      "text/plain": [
       "Eq(Derivative(\\tilde{N}(t), t), alpha_2*k_i*I_2(t)/mu**2 - p_1*q*\\tilde{N}(t)**2 + p_1*\\tilde{N}(t) - p_2*\\tilde{N}(t) - \\tilde{N}(t)*\\tilde{T}(t))"
      ]
     },
     "metadata": {},
     "output_type": "display_data"
    },
    {
     "name": "stdout",
     "output_type": "stream",
     "text": [
      "Equation is unitless\n"
     ]
    },
    {
     "data": {
      "text/latex": [
       "$\\displaystyle \\frac{d}{d t} \\tilde{L}{\\left(t \\right)} = - s \\tilde{L}{\\left(t \\right)} \\tilde{T}{\\left(t \\right)} - \\tilde{L}{\\left(t \\right)} + \\tilde{N}{\\left(t \\right)} \\tilde{T}{\\left(t \\right)}$"
      ],
      "text/plain": [
       "Eq(Derivative(\\tilde{L}(t), t), -s*\\tilde{L}(t)*\\tilde{T}(t) - \\tilde{L}(t) + \\tilde{N}(t)*\\tilde{T}(t))"
      ]
     },
     "metadata": {},
     "output_type": "display_data"
    },
    {
     "name": "stdout",
     "output_type": "stream",
     "text": [
      "Equation is unitless\n"
     ]
    },
    {
     "data": {
      "text/latex": [
       "$\\displaystyle \\frac{d}{d t} \\tilde{T}{\\left(t \\right)} = - \\delta \\tilde{L}{\\left(t \\right)} \\tilde{T}{\\left(t \\right)} - \\frac{\\alpha_{1} k_{c} C{\\left(t \\right)}}{\\mu^{2}} - u v \\tilde{T}^{2}{\\left(t \\right)} + u \\tilde{T}{\\left(t \\right)} - \\tilde{N}{\\left(t \\right)} \\tilde{T}{\\left(t \\right)}$"
      ],
      "text/plain": [
       "Eq(Derivative(\\tilde{T}(t), t), -\\delta*\\tilde{L}(t)*\\tilde{T}(t) - alpha_1*k_c*C(t)/mu**2 - u*v*\\tilde{T}(t)**2 + u*\\tilde{T}(t) - \\tilde{N}(t)*\\tilde{T}(t))"
      ]
     },
     "metadata": {},
     "output_type": "display_data"
    },
    {
     "name": "stdout",
     "output_type": "stream",
     "text": [
      "Equation is unitless\n"
     ]
    },
    {
     "ename": "IndexError",
     "evalue": "list index out of range",
     "output_type": "error",
     "traceback": [
      "\u001b[0;31m---------------------------------------------------------------------------\u001b[0m",
      "\u001b[0;31mIndexError\u001b[0m                                Traceback (most recent call last)",
      "Cell \u001b[0;32mIn[14], line 52\u001b[0m\n\u001b[1;32m     48\u001b[0m eq \u001b[38;5;241m=\u001b[39m expand(equation)\u001b[38;5;241m.\u001b[39msubs(parameter_subs \u001b[38;5;241m|\u001b[39m subs)\n\u001b[1;32m     49\u001b[0m \u001b[38;5;66;03m#display(expand(equation))\u001b[39;00m\n\u001b[1;32m     50\u001b[0m \u001b[38;5;66;03m#display(eq)\u001b[39;00m\n\u001b[1;32m     51\u001b[0m eq_diff \u001b[38;5;241m=\u001b[39m Eq(tilde_syms[var]\u001b[38;5;241m.\u001b[39mdiff(t\u001b[38;5;241m/\u001b[39mday),\n\u001b[0;32m---> 52\u001b[0m              expand(\u001b[43msolve\u001b[49m\u001b[43m(\u001b[49m\u001b[43meq\u001b[49m\u001b[43m,\u001b[49m\u001b[43m \u001b[49m\u001b[43mtilde_syms\u001b[49m\u001b[43m[\u001b[49m\u001b[43mvar\u001b[49m\u001b[43m]\u001b[49m\u001b[38;5;241;43m.\u001b[39;49m\u001b[43mdiff\u001b[49m\u001b[43m(\u001b[49m\u001b[43mt\u001b[49m\u001b[38;5;241;43m/\u001b[39;49m\u001b[43mday\u001b[49m\u001b[43m)\u001b[49m\u001b[43m)\u001b[49m\u001b[43m[\u001b[49m\u001b[38;5;241;43m0\u001b[39;49m\u001b[43m]\u001b[49m)\n\u001b[1;32m     53\u001b[0m             )\u001b[38;5;241m.\u001b[39msubs(parameter_subs)\n\u001b[1;32m     54\u001b[0m display(eq_diff)\n\u001b[1;32m     56\u001b[0m rhs_units \u001b[38;5;241m=\u001b[39m units(eq_diff\u001b[38;5;241m.\u001b[39mrhs)\n",
      "\u001b[0;31mIndexError\u001b[0m: list index out of range"
     ]
    }
   ],
   "source": [
    "tilde_syms = {\n",
    "    N: Function(r'\\tilde{N}')(t/day),\n",
    "    L: Function(r'\\tilde{L}')(t/day),\n",
    "    T: Function(r'\\tilde{T}')(t/day),\n",
    "    D: Function(r'\\tilde{D}')(t/day),\n",
    "    I_2: Function(r'\\tilde{I_2}')(t/day),\n",
    "    C: Function(r'\\tilde{C}')(t/day),\n",
    "}\n",
    "\n",
    "T_0 = T.subs(t/day, 0)\n",
    "\n",
    "subs = dict()\n",
    "subs[N] = mu/alpha_2*tilde_syms[N]\n",
    "subs[Np] = subs[N].diff(t/day)*mu\n",
    "subs[L] = r_1*mu/alpha_1/alpha_2*tilde_syms[L]\n",
    "subs[Lp] = subs[L].diff(t/day)*mu\n",
    "subs[T] = mu/alpha_1*tilde_syms[T]\n",
    "subs[Tp] = subs[T].diff(t/day)*mu\n",
    "#subs[r_2*D] = r_2*T_0*mu/r_2*tilde_syms[D]\n",
    "#subs[Dp] = subs[r_2*D].diff(t/day)*mu/r_2\n",
    "subs[t] = tau/mu\n",
    "subs[h] = symbols(r'\\tilde{h}', real=True, positive=True)/mu\n",
    "\n",
    "delta = symbols(r'\\delta', real=True, positive=True)\n",
    "\n",
    "parameter_subs = dict()\n",
    "parameter_subs[a_1/mu] = symbols('p_1', real=True, positive=True)\n",
    "parameter_subs[a_2/mu] = symbols('p_2', real=True, positive=True)\n",
    "parameter_subs[b*mu/alpha_2] = symbols('q', real=True, positive=True)\n",
    "parameter_subs[T.subs(t/day,0)*alpha_1*alpha_2/r_1/mu] = symbols('r', real=True, positive=True)\n",
    "parameter_subs[beta_1/alpha_1] = symbols('s', real=True, positive=True)\n",
    "parameter_subs[c/mu] = symbols('u', real=True, positive=True)\n",
    "parameter_subs[d*mu/alpha_1] = symbols('v', real=True, positive=True)\n",
    "parameter_subs[beta_2*r_1/alpha_1/alpha_2] = delta\n",
    "#parameter_subs[r_2/mu/T_0*D_0] = symbols('D_0^*', real=True, positive=True)\n",
    "\n",
    "print('Substitutions:')\n",
    "\n",
    "for val, sub in subs.items():\n",
    "    display(Eq(val, sub))\n",
    "\n",
    "for val, sub in parameter_subs.items():\n",
    "    display(Eq(sub, val))\n",
    "\n",
    "print('Resulting equations:')\n",
    "\n",
    "for var, equation in system.items():\n",
    "    eq = expand(equation).subs(parameter_subs | subs)\n",
    "    #display(expand(equation))\n",
    "    #display(eq)\n",
    "    eq_diff = Eq(tilde_syms[var].diff(t/day),\n",
    "                 expand(solve(eq, tilde_syms[var].diff(t/day))[0])\n",
    "                ).subs(parameter_subs)\n",
    "    display(eq_diff)\n",
    "    \n",
    "    rhs_units = units(eq_diff.rhs)\n",
    "    if rhs_units.has(Quantity):\n",
    "        print('Something is wrong! The RHS has units ', rhs_units)\n",
    "    else:\n",
    "        print('Equation is unitless')\n",
    "\n",
    "old_subs = subs"
   ]
  },
  {
   "cell_type": "markdown",
   "id": "929bc48f-178d-4f32-a46f-b8e7a565fea6",
   "metadata": {},
   "source": [
    "## Stability Analysis"
   ]
  },
  {
   "cell_type": "markdown",
   "id": "4218b43d-0777-4624-8b26-eee79ee9d685",
   "metadata": {},
   "source": [
    "Now we can construct the model with the nondimensionalized equations and simplified parameters for the stability analysis."
   ]
  },
  {
   "cell_type": "code",
   "execution_count": 15,
   "id": "6657499d-b354-4822-b6c3-df279f285439",
   "metadata": {},
   "outputs": [
    {
     "data": {
      "text/latex": [
       "$\\displaystyle \\frac{d}{d \\tilde{t}} N{\\left(\\tilde{t} \\right)} = k_{n} D{\\left(\\tilde{t} \\right)} + p_{1} \\left(- q N{\\left(\\tilde{t} \\right)} + 1\\right) N{\\left(\\tilde{t} \\right)} - p_{2} N{\\left(\\tilde{t} \\right)} - N{\\left(\\tilde{t} \\right)} T{\\left(\\tilde{t} \\right)}$"
      ],
      "text/plain": [
       "Eq(Derivative(N(\\tilde{t}), \\tilde{t}), k_n*D(\\tilde{t}) + p_1*(-q*N(\\tilde{t}) + 1)*N(\\tilde{t}) - p_2*N(\\tilde{t}) - N(\\tilde{t})*T(\\tilde{t}))"
      ]
     },
     "metadata": {},
     "output_type": "display_data"
    },
    {
     "data": {
      "text/latex": [
       "$\\displaystyle \\frac{d}{d \\tilde{t}} L{\\left(\\tilde{t} \\right)} = r D{\\left(\\tilde{t} \\right)} - s L{\\left(\\tilde{t} \\right)} T{\\left(\\tilde{t} \\right)} - L{\\left(\\tilde{t} \\right)} + N{\\left(\\tilde{t} \\right)} T{\\left(\\tilde{t} \\right)}$"
      ],
      "text/plain": [
       "Eq(Derivative(L(\\tilde{t}), \\tilde{t}), r*D(\\tilde{t}) - s*L(\\tilde{t})*T(\\tilde{t}) - L(\\tilde{t}) + N(\\tilde{t})*T(\\tilde{t}))"
      ]
     },
     "metadata": {},
     "output_type": "display_data"
    },
    {
     "data": {
      "text/latex": [
       "$\\displaystyle \\frac{d}{d \\tilde{t}} T{\\left(\\tilde{t} \\right)} = - \\delta L{\\left(\\tilde{t} \\right)} T{\\left(\\tilde{t} \\right)} - k_{t} D{\\left(\\tilde{t} \\right)} + u \\left(- v T{\\left(\\tilde{t} \\right)} + 1\\right) T{\\left(\\tilde{t} \\right)} - N{\\left(\\tilde{t} \\right)} T{\\left(\\tilde{t} \\right)}$"
      ],
      "text/plain": [
       "Eq(Derivative(T(\\tilde{t}), \\tilde{t}), -\\delta*L(\\tilde{t})*T(\\tilde{t}) - k_t*D(\\tilde{t}) + u*(-v*T(\\tilde{t}) + 1)*T(\\tilde{t}) - N(\\tilde{t})*T(\\tilde{t}))"
      ]
     },
     "metadata": {},
     "output_type": "display_data"
    },
    {
     "data": {
      "text/latex": [
       "$\\displaystyle \\frac{d}{d \\tilde{t}} D{\\left(\\tilde{t} \\right)} = - \\frac{2^{- \\frac{\\tilde{t}}{\\tilde{h}}} D^{*}_{0} \\log{\\left(2 \\right)}}{\\tilde{h}}$"
      ],
      "text/plain": [
       "Eq(Derivative(D(\\tilde{t}), \\tilde{t}), -D_0^**log(2)/(2**(\\tilde{t}/\\tilde{h})*\\tilde{h}))"
      ]
     },
     "metadata": {},
     "output_type": "display_data"
    }
   ],
   "source": [
    "create_symbol_globals(parameter_subs.values())\n",
    "D_0_s = symbols('D_0^*', real=True, positive=True)\n",
    "k_n = symbols('k_n', real=True, positive=True)\n",
    "k_t = symbols('k_t', real=True, positive=True)\n",
    "ht = symbols(r'\\tilde{h}', real=True, positive=True)\n",
    "tt = symbols(r'\\tilde{t}', real=True, positive=True)\n",
    "new_param_definitions = {param: definition\n",
    "                         for definition, param\n",
    "                         in parameter_subs.items()}\n",
    "new_param_definitions[ht] = mu*h\n",
    "new_param_definitions[tt] = mu*t\n",
    "\n",
    "subs = dict()\n",
    "\n",
    "N = Function('N')(tt)\n",
    "Np = N.diff(tt)\n",
    "\n",
    "L = Function('L')(tt)\n",
    "Lp = L.diff(tt)\n",
    "\n",
    "T = Function('T')(tt)\n",
    "Tp = T.diff(tt)\n",
    "\n",
    "D = Function('D')(tt)\n",
    "Dp = D.diff(tt)\n",
    "\n",
    "nd_system = {\n",
    "    N: Eq(Np, p_1*N*(1-q*N) - p_2*N - N*T + k_n*D),\n",
    "    L: Eq(Lp, N*T + r*D - L - s*L*T),\n",
    "    T: Eq(Tp, u*T*(1-v*T) - N*T - delta*L*T - k_t*D),\n",
    "    D: Eq(Dp, -log(2)/ht*D_0_s*2**(-tt/ht)),\n",
    "}\n",
    "\n",
    "for equation in nd_system.values():\n",
    "    display(equation)"
   ]
  },
  {
   "cell_type": "markdown",
   "id": "78852d92-4dd2-46c3-849f-0a4005ca555e",
   "metadata": {},
   "source": [
    "We then use these new equations to calculate the Jacobian of the system:"
   ]
  },
  {
   "cell_type": "code",
   "execution_count": 16,
   "id": "890ce1ae-7686-44c8-b4a3-0f0f6d74801c",
   "metadata": {},
   "outputs": [
    {
     "data": {
      "text/latex": [
       "$\\displaystyle \\left[\\begin{matrix}- 2 p_{1} q N{\\left(\\tilde{t} \\right)} + p_{1} - p_{2} - T{\\left(\\tilde{t} \\right)} & 0 & - N{\\left(\\tilde{t} \\right)} & k_{n}\\\\T{\\left(\\tilde{t} \\right)} & - s T{\\left(\\tilde{t} \\right)} - 1 & - s L{\\left(\\tilde{t} \\right)} + N{\\left(\\tilde{t} \\right)} & r\\\\- T{\\left(\\tilde{t} \\right)} & - \\delta T{\\left(\\tilde{t} \\right)} & - \\delta L{\\left(\\tilde{t} \\right)} - 2 u v T{\\left(\\tilde{t} \\right)} + u - N{\\left(\\tilde{t} \\right)} & - k_{t}\\\\0 & 0 & 0 & 0\\end{matrix}\\right]$"
      ],
      "text/plain": [
       "Matrix([\n",
       "[-2*p_1*q*N(\\tilde{t}) + p_1 - p_2 - T(\\tilde{t}),                    0,                                                -N(\\tilde{t}),  k_n],\n",
       "[                                    T(\\tilde{t}),  -s*T(\\tilde{t}) - 1,                               -s*L(\\tilde{t}) + N(\\tilde{t}),    r],\n",
       "[                                   -T(\\tilde{t}), -\\delta*T(\\tilde{t}), -\\delta*L(\\tilde{t}) - 2*u*v*T(\\tilde{t}) + u - N(\\tilde{t}), -k_t],\n",
       "[                                               0,                    0,                                                            0,    0]])"
      ]
     },
     "execution_count": 16,
     "metadata": {},
     "output_type": "execute_result"
    }
   ],
   "source": [
    "jacobian = simplify(Matrix([[equation.rhs.subs(subs).diff(var)\n",
    "                             for var in nd_system.keys()\n",
    "                            ] for equation in nd_system.values()]))\n",
    "jacobian"
   ]
  },
  {
   "cell_type": "code",
   "execution_count": 17,
   "id": "5a9c8643-2fb2-4f34-9494-d2a40279344b",
   "metadata": {},
   "outputs": [
    {
     "data": {
      "text/latex": [
       "$\\displaystyle \\left[\\begin{matrix}- 2 p_{1} q N{\\left(\\tilde{t} \\right)} + p_{1} - p_{2} - T{\\left(\\tilde{t} \\right)} & 0 & - N{\\left(\\tilde{t} \\right)} & k_{n}\\\\T{\\left(\\tilde{t} \\right)} & - s T{\\left(\\tilde{t} \\right)} - 1 & - s L{\\left(\\tilde{t} \\right)} + N{\\left(\\tilde{t} \\right)} & r\\\\- T{\\left(\\tilde{t} \\right)} & - \\delta T{\\left(\\tilde{t} \\right)} & - \\delta L{\\left(\\tilde{t} \\right)} - 2 u v T{\\left(\\tilde{t} \\right)} + u - N{\\left(\\tilde{t} \\right)} & - k_{t}\\\\0 & 0 & 0 & 0\\end{matrix}\\right]$"
      ],
      "text/plain": [
       "Matrix([\n",
       "[-2*p_1*q*N(\\tilde{t}) + p_1 - p_2 - T(\\tilde{t}),                    0,                                                -N(\\tilde{t}),  k_n],\n",
       "[                                    T(\\tilde{t}),  -s*T(\\tilde{t}) - 1,                               -s*L(\\tilde{t}) + N(\\tilde{t}),    r],\n",
       "[                                   -T(\\tilde{t}), -\\delta*T(\\tilde{t}), -\\delta*L(\\tilde{t}) - 2*u*v*T(\\tilde{t}) + u - N(\\tilde{t}), -k_t],\n",
       "[                                               0,                    0,                                                            0,    0]])"
      ]
     },
     "execution_count": 17,
     "metadata": {},
     "output_type": "execute_result"
    }
   ],
   "source": [
    "jacobian = simplify(Matrix([[equation.rhs.subs(subs).diff(var)\n",
    "                             for var in nd_system.keys()\n",
    "                            ] for equation in nd_system.values()]))\n",
    "jacobian"
   ]
  },
  {
   "cell_type": "markdown",
   "id": "6a57a3f9-855e-45df-9879-c2c33e14db2b",
   "metadata": {},
   "source": [
    "And calculate critical points:"
   ]
  },
  {
   "cell_type": "code",
   "execution_count": null,
   "id": "a9aef441-8dad-4536-84e0-c1d5aff32bad",
   "metadata": {},
   "outputs": [],
   "source": [
    "D.subs({tt: t/day})"
   ]
  },
  {
   "cell_type": "code",
   "execution_count": null,
   "id": "d670e9cf-af05-4ebd-aec3-4e038b4c7d35",
   "metadata": {},
   "outputs": [],
   "source": [
    "subs[D.subs({tt: t/day})] = 0"
   ]
  },
  {
   "cell_type": "code",
   "execution_count": null,
   "id": "050bdeec-2a5b-47ae-95dc-75865b9afa94",
   "metadata": {},
   "outputs": [],
   "source": [
    "subs[D] = 0"
   ]
  },
  {
   "cell_type": "code",
   "execution_count": null,
   "id": "83ee204f-a530-467f-8a15-ffb6f05d46d3",
   "metadata": {},
   "outputs": [],
   "source": [
    "subs = dict()"
   ]
  },
  {
   "cell_type": "code",
   "execution_count": null,
   "id": "cd194e0e-077a-4341-a59c-c3399f2651ee",
   "metadata": {},
   "outputs": [],
   "source": [
    "solutions = dict()\n",
    "\n",
    "for ix, (sym, equation) in enumerate(nd_system.items()):\n",
    "    equation = equation.subs({tt: t/day})\n",
    "    sym = sym.subs({tt: t/day})\n",
    "    display(equation.subs(subs))\n",
    "    pmd(f'Solutions for ${sym}$:')\n",
    "    sols = solve(equation.subs(subs).rhs, sym)\n",
    "    solutions[sym] = sols\n",
    "    for sol in sols:\n",
    "        display(Eq(sym, sol))\n",
    "    if ix == 2:\n",
    "        break\n",
    "    print()"
   ]
  },
  {
   "cell_type": "code",
   "execution_count": null,
   "id": "eb9a3c56-0f94-46d3-8188-a5dee563dd70",
   "metadata": {},
   "outputs": [],
   "source": [
    "v"
   ]
  },
  {
   "cell_type": "code",
   "execution_count": 18,
   "id": "fc0e8734-6765-4dc0-8828-05e156e0ac79",
   "metadata": {},
   "outputs": [],
   "source": [
    "lam = symbols('lambda', real=True)"
   ]
  },
  {
   "cell_type": "code",
   "execution_count": null,
   "id": "c15fe19e-bf86-4e5c-adad-e9a0ef67c0dc",
   "metadata": {},
   "outputs": [],
   "source": [
    "lam"
   ]
  },
  {
   "cell_type": "code",
   "execution_count": null,
   "id": "0abf9e58-605d-48cd-805c-1595afd55816",
   "metadata": {},
   "outputs": [],
   "source": [
    "(lam+2e5*p_1*q-p_1+p_2+1e6)*(lam+1e6*s+1)*(lam+20*delta+2e5*u*v+u-1e6)*(lam-0)"
   ]
  },
  {
   "cell_type": "code",
   "execution_count": null,
   "id": "5b5fee37-85d3-4173-b992-8144c3d1bebd",
   "metadata": {},
   "outputs": [],
   "source": [
    "solveset(_23, lam, domain=S.Reals)"
   ]
  },
  {
   "cell_type": "code",
   "execution_count": 22,
   "id": "30ea1a90-ad4b-49f2-a0f5-b36492151c34",
   "metadata": {},
   "outputs": [
    {
     "data": {
      "text/latex": [
       "$\\displaystyle \\left[\\begin{matrix}- p_{1} + p_{2} + \\frac{z}{u v} & 0 & - \\frac{p_{1} - p_{2} - \\frac{z}{u v}}{p_{1} q} & k_{n}\\\\\\frac{z}{u v} & - \\frac{s z}{u v} - 1 & - \\frac{s z \\left(p_{1} - p_{2} - \\frac{z}{u v}\\right)}{p_{1} q u v \\left(\\frac{s z}{u v} + 1\\right)} + \\frac{p_{1} - p_{2} - \\frac{z}{u v}}{p_{1} q} & r\\\\- \\frac{z}{u v} & - \\frac{\\delta z}{u v} & 2 \\delta L{\\left(t \\right)} - \\frac{\\delta z \\left(p_{1} - p_{2} - \\frac{z}{u v}\\right)}{p_{1} q u v \\left(\\frac{s z}{u v} + 1\\right)} - u + 2 N{\\left(t \\right)} - \\frac{p_{1} - p_{2} - \\frac{z}{u v}}{p_{1} q} & - k_{t}\\\\0 & 0 & 0 & 0\\end{matrix}\\right]$"
      ],
      "text/plain": [
       "Matrix([\n",
       "[-p_1 + p_2 + z/(u*v),               0,                                                                                          -(p_1 - p_2 - z/(u*v))/(p_1*q),  k_n],\n",
       "[             z/(u*v),  -s*z/(u*v) - 1,                                  -s*z*(p_1 - p_2 - z/(u*v))/(p_1*q*u*v*(s*z/(u*v) + 1)) + (p_1 - p_2 - z/(u*v))/(p_1*q),    r],\n",
       "[            -z/(u*v), -\\delta*z/(u*v), 2*\\delta*L(t) - \\delta*z*(p_1 - p_2 - z/(u*v))/(p_1*q*u*v*(s*z/(u*v) + 1)) - u + 2*N(t) - (p_1 - p_2 - z/(u*v))/(p_1*q), -k_t],\n",
       "[                   0,               0,                                                                                                                       0,    0]])"
      ]
     },
     "execution_count": 22,
     "metadata": {},
     "output_type": "execute_result"
    }
   ],
   "source": [
    "jacobian.subs({N: (p_1-p_2-T)/(p_1*q), L: N*T/(s*T+1), T: (-delta*L+u-N)/u/v, D: 0}).subs({-delta*L+u-N: z}).subs({tt: t/day})"
   ]
  },
  {
   "cell_type": "code",
   "execution_count": 19,
   "id": "42a71342-5670-4abe-9071-3134f04d8772",
   "metadata": {},
   "outputs": [
    {
     "data": {
      "text/latex": [
       "$\\displaystyle \\left[\\begin{matrix}\\lambda + 2 p_{1} q N{\\left(\\tilde{t} \\right)} - p_{1} + p_{2} + T{\\left(\\tilde{t} \\right)}\\\\\\lambda + s T{\\left(\\tilde{t} \\right)} + 1\\\\\\delta L{\\left(\\tilde{t} \\right)} + \\lambda + 2 u v T{\\left(\\tilde{t} \\right)} - u + N{\\left(\\tilde{t} \\right)}\\\\\\lambda\\end{matrix}\\right]$"
      ],
      "text/plain": [
       "Matrix([\n",
       "[            lambda + 2*p_1*q*N(\\tilde{t}) - p_1 + p_2 + T(\\tilde{t})],\n",
       "[                                         lambda + s*T(\\tilde{t}) + 1],\n",
       "[\\delta*L(\\tilde{t}) + lambda + 2*u*v*T(\\tilde{t}) - u + N(\\tilde{t})],\n",
       "[                                                              lambda]])"
      ]
     },
     "execution_count": 19,
     "metadata": {},
     "output_type": "execute_result"
    }
   ],
   "source": [
    "lam*ones(4,1)-jacobian.diagonal().T"
   ]
  },
  {
   "cell_type": "code",
   "execution_count": null,
   "id": "2a642144-82f3-478c-ba8e-bd0fbbe0edc0",
   "metadata": {},
   "outputs": [],
   "source": [
    "prod(_45.args[2]).subs({N: (p_1-p_2-T)/(p_1*q), L: N*T/(s*T+1), T: (-delta*L+u-N)/u/v, D: 0})"
   ]
  },
  {
   "cell_type": "code",
   "execution_count": 21,
   "id": "513a711d-d2f9-466d-8ca8-739ec98b41ae",
   "metadata": {},
   "outputs": [
    {
     "data": {
      "text/latex": [
       "$\\displaystyle \\mathbb{R} \\cap \\left\\{0, \\frac{\\delta^{3} L^{2}{\\left(\\tilde{t} \\right)} - 2 \\delta^{2} p_{1} q s u v L^{2}{\\left(\\tilde{t} \\right)} + \\delta^{2} p_{1} u v L{\\left(\\tilde{t} \\right)} - \\delta^{2} p_{2} u v L{\\left(\\tilde{t} \\right)} + \\delta^{2} s L^{2}{\\left(\\tilde{t} \\right)} - 2 \\delta^{2} u L{\\left(\\tilde{t} \\right)} + 2 \\delta^{2} L{\\left(\\tilde{t} \\right)} N{\\left(\\tilde{t} \\right)} + 3 \\delta p_{1} q s u^{2} v L{\\left(\\tilde{t} \\right)} - 4 \\delta p_{1} q s u v L{\\left(\\tilde{t} \\right)} N{\\left(\\tilde{t} \\right)} + 2 \\delta p_{1} q u^{2} v^{2} L{\\left(\\tilde{t} \\right)} + \\delta p_{1} s u v L{\\left(\\tilde{t} \\right)} - \\delta p_{1} u^{2} v + \\delta p_{1} u v N{\\left(\\tilde{t} \\right)} - \\delta p_{2} s u v L{\\left(\\tilde{t} \\right)} + \\delta p_{2} u^{2} v - \\delta p_{2} u v N{\\left(\\tilde{t} \\right)} - 2 \\delta s u L{\\left(\\tilde{t} \\right)} + 2 \\delta s L{\\left(\\tilde{t} \\right)} N{\\left(\\tilde{t} \\right)} + \\delta u^{2} - \\delta u v L{\\left(\\tilde{t} \\right)} - 2 \\delta u N{\\left(\\tilde{t} \\right)} + \\delta N^{2}{\\left(\\tilde{t} \\right)} - p_{1} q s u^{3} v + 3 p_{1} q s u^{2} v N{\\left(\\tilde{t} \\right)} - 2 p_{1} q s u v N^{2}{\\left(\\tilde{t} \\right)} - p_{1} q u^{3} v^{2} + 2 p_{1} q u^{2} v^{2} N{\\left(\\tilde{t} \\right)} - p_{1} s u^{2} v + p_{1} s u v N{\\left(\\tilde{t} \\right)} - p_{1} u^{2} v^{2} + p_{2} s u^{2} v - p_{2} s u v N{\\left(\\tilde{t} \\right)} + p_{2} u^{2} v^{2} + s u^{2} - 2 s u N{\\left(\\tilde{t} \\right)} + s N^{2}{\\left(\\tilde{t} \\right)} + u^{2} v - u v N{\\left(\\tilde{t} \\right)}}{- \\delta p_{1} q s u v L{\\left(\\tilde{t} \\right)} + p_{1} q s u^{2} v - p_{1} q s u v N{\\left(\\tilde{t} \\right)} + p_{1} q u^{2} v^{2}}, \\frac{\\delta s L{\\left(\\tilde{t} \\right)} - s u + s N{\\left(\\tilde{t} \\right)} - u v}{u v}, \\frac{- \\delta L{\\left(\\tilde{t} \\right)} - p_{1} u v + p_{2} u v + u - N{\\left(\\tilde{t} \\right)}}{u v}\\right\\}$"
      ],
      "text/plain": [
       "Intersection({0, (\\delta**3*L(\\tilde{t})**2 - 2*\\delta**2*p_1*q*s*u*v*L(\\tilde{t})**2 + \\delta**2*p_1*u*v*L(\\tilde{t}) - \\delta**2*p_2*u*v*L(\\tilde{t}) + \\delta**2*s*L(\\tilde{t})**2 - 2*\\delta**2*u*L(\\tilde{t}) + 2*\\delta**2*L(\\tilde{t})*N(\\tilde{t}) + 3*\\delta*p_1*q*s*u**2*v*L(\\tilde{t}) - 4*\\delta*p_1*q*s*u*v*L(\\tilde{t})*N(\\tilde{t}) + 2*\\delta*p_1*q*u**2*v**2*L(\\tilde{t}) + \\delta*p_1*s*u*v*L(\\tilde{t}) - \\delta*p_1*u**2*v + \\delta*p_1*u*v*N(\\tilde{t}) - \\delta*p_2*s*u*v*L(\\tilde{t}) + \\delta*p_2*u**2*v - \\delta*p_2*u*v*N(\\tilde{t}) - 2*\\delta*s*u*L(\\tilde{t}) + 2*\\delta*s*L(\\tilde{t})*N(\\tilde{t}) + \\delta*u**2 - \\delta*u*v*L(\\tilde{t}) - 2*\\delta*u*N(\\tilde{t}) + \\delta*N(\\tilde{t})**2 - p_1*q*s*u**3*v + 3*p_1*q*s*u**2*v*N(\\tilde{t}) - 2*p_1*q*s*u*v*N(\\tilde{t})**2 - p_1*q*u**3*v**2 + 2*p_1*q*u**2*v**2*N(\\tilde{t}) - p_1*s*u**2*v + p_1*s*u*v*N(\\tilde{t}) - p_1*u**2*v**2 + p_2*s*u**2*v - p_2*s*u*v*N(\\tilde{t}) + p_2*u**2*v**2 + s*u**2 - 2*s*u*N(\\tilde{t}) + s*N(\\tilde{t})**2 + u**2*v - u*v*N(\\tilde{t}))/(-\\delta*p_1*q*s*u*v*L(\\tilde{t}) + p_1*q*s*u**2*v - p_1*q*s*u*v*N(\\tilde{t}) + p_1*q*u**2*v**2), (\\delta*s*L(\\tilde{t}) - s*u + s*N(\\tilde{t}) - u*v)/(u*v), (-\\delta*L(\\tilde{t}) - p_1*u*v + p_2*u*v + u - N(\\tilde{t}))/(u*v)}, Reals)"
      ]
     },
     "execution_count": 21,
     "metadata": {},
     "output_type": "execute_result"
    }
   ],
   "source": [
    "solveset(prod(_19.args[2]).subs({N: (p_1-p_2-T)/(p_1*q), L: N*T/(s*T+1), T: (-delta*L+u-N)/u/v, D: 0}),lam,S.Reals)"
   ]
  },
  {
   "cell_type": "code",
   "execution_count": 25,
   "id": "4861a04e-2cbd-453e-ba37-b48f128c9d2b",
   "metadata": {},
   "outputs": [
    {
     "data": {
      "text/latex": [
       "$\\displaystyle \\left\\{-1, 0, - p_{1} + p_{2}, u - \\frac{p_{1} - p_{2}}{p_{1} q}\\right\\}$"
      ],
      "text/plain": [
       "{-1, 0, -p_1 + p_2, u - (p_1 - p_2)/(p_1*q)}"
      ]
     },
     "execution_count": 25,
     "metadata": {},
     "output_type": "execute_result"
    }
   ],
   "source": [
    "solveset(prod(_19.args[2]).subs({N: (p_1-p_2-T)/(p_1*q), L: N*T/(s*T+1), T: 0, D: 0}),lam,S.Reals)"
   ]
  },
  {
   "cell_type": "code",
   "execution_count": 27,
   "id": "75264d18-7417-4735-af1c-81326e4480f9",
   "metadata": {},
   "outputs": [
    {
     "data": {
      "text/latex": [
       "$\\displaystyle \\left[\\begin{matrix}\\end{matrix}\\right]$"
      ],
      "text/plain": [
       "Matrix(0, 0, [])"
      ]
     },
     "execution_count": 27,
     "metadata": {},
     "output_type": "execute_result"
    }
   ],
   "source": [
    "Matrix(_.args[1].args).subs({tt: t/day})"
   ]
  },
  {
   "cell_type": "code",
   "execution_count": 29,
   "id": "138bd30f-c9c1-4ce2-ad0f-77429bea1126",
   "metadata": {},
   "outputs": [
    {
     "data": {
      "text/latex": [
       "$\\displaystyle \\left[\\begin{matrix}-1\\\\0\\\\- p_{1} + p_{2}\\\\u - \\frac{p_{1} - p_{2}}{p_{1} q}\\end{matrix}\\right]$"
      ],
      "text/plain": [
       "Matrix([\n",
       "[                     -1],\n",
       "[                      0],\n",
       "[             -p_1 + p_2],\n",
       "[u - (p_1 - p_2)/(p_1*q)]])"
      ]
     },
     "execution_count": 29,
     "metadata": {},
     "output_type": "execute_result"
    }
   ],
   "source": [
    "Matrix(_25.args).subs({tt: t/day})"
   ]
  },
  {
   "cell_type": "code",
   "execution_count": 30,
   "id": "4ce606ea-1c1d-472e-ad25-5c31eab8d594",
   "metadata": {},
   "outputs": [
    {
     "data": {
      "text/latex": [
       "$\\displaystyle \\left[\\begin{matrix}-1\\\\0\\\\- p_{1} + p_{2}\\\\u - \\frac{p_{1} - p_{2}}{p_{1} q}\\end{matrix}\\right]$"
      ],
      "text/plain": [
       "Matrix([\n",
       "[                     -1],\n",
       "[                      0],\n",
       "[             -p_1 + p_2],\n",
       "[u - (p_1 - p_2)/(p_1*q)]])"
      ]
     },
     "execution_count": 30,
     "metadata": {},
     "output_type": "execute_result"
    }
   ],
   "source": [
    "factor(_29)"
   ]
  },
  {
   "cell_type": "code",
   "execution_count": 35,
   "id": "9ef2733a-85ce-4027-bf8f-e917f5f83d6b",
   "metadata": {},
   "outputs": [
    {
     "data": {
      "text/latex": [
       "$\\displaystyle \\left[\\begin{matrix}0\\\\\\frac{\\delta s L{\\left(t \\right)} - s u + s N{\\left(t \\right)} - u v}{u v}\\\\\\frac{- \\delta L{\\left(t \\right)} - p_{1} u v + p_{2} u v + u - N{\\left(t \\right)}}{u v}\\\\\\frac{\\delta^{3} L^{2}{\\left(t \\right)} - 2 \\delta^{2} p_{1} q s u v L^{2}{\\left(t \\right)} + \\delta^{2} p_{1} u v L{\\left(t \\right)} - \\delta^{2} p_{2} u v L{\\left(t \\right)} + \\delta^{2} s L^{2}{\\left(t \\right)} - 2 \\delta^{2} u L{\\left(t \\right)} + 2 \\delta^{2} L{\\left(t \\right)} N{\\left(t \\right)} + 3 \\delta p_{1} q s u^{2} v L{\\left(t \\right)} - 4 \\delta p_{1} q s u v L{\\left(t \\right)} N{\\left(t \\right)} + 2 \\delta p_{1} q u^{2} v^{2} L{\\left(t \\right)} + \\delta p_{1} s u v L{\\left(t \\right)} - \\delta p_{1} u^{2} v + \\delta p_{1} u v N{\\left(t \\right)} - \\delta p_{2} s u v L{\\left(t \\right)} + \\delta p_{2} u^{2} v - \\delta p_{2} u v N{\\left(t \\right)} - 2 \\delta s u L{\\left(t \\right)} + 2 \\delta s L{\\left(t \\right)} N{\\left(t \\right)} + \\delta u^{2} - \\delta u v L{\\left(t \\right)} - 2 \\delta u N{\\left(t \\right)} + \\delta N^{2}{\\left(t \\right)} - p_{1} q s u^{3} v + 3 p_{1} q s u^{2} v N{\\left(t \\right)} - 2 p_{1} q s u v N^{2}{\\left(t \\right)} - p_{1} q u^{3} v^{2} + 2 p_{1} q u^{2} v^{2} N{\\left(t \\right)} - p_{1} s u^{2} v + p_{1} s u v N{\\left(t \\right)} - p_{1} u^{2} v^{2} + p_{2} s u^{2} v - p_{2} s u v N{\\left(t \\right)} + p_{2} u^{2} v^{2} + s u^{2} - 2 s u N{\\left(t \\right)} + s N^{2}{\\left(t \\right)} + u^{2} v - u v N{\\left(t \\right)}}{- \\delta p_{1} q s u v L{\\left(t \\right)} + p_{1} q s u^{2} v - p_{1} q s u v N{\\left(t \\right)} + p_{1} q u^{2} v^{2}}\\end{matrix}\\right]$"
      ],
      "text/plain": [
       "Matrix([\n",
       "[                                                                                                                                                                                                                                                                                                                                                                                                                                                                                                                                                                                                                                                                                                                                                                                                                                                                              0],\n",
       "[                                                                                                                                                                                                                                                                                                                                                                                                                                                                                                                                                                                                                                                                                                                                                                                                                                     (\\delta*s*L(t) - s*u + s*N(t) - u*v)/(u*v)],\n",
       "[                                                                                                                                                                                                                                                                                                                                                                                                                                                                                                                                                                                                                                                                                                                                                                                                                            (-\\delta*L(t) - p_1*u*v + p_2*u*v + u - N(t))/(u*v)],\n",
       "[(\\delta**3*L(t)**2 - 2*\\delta**2*p_1*q*s*u*v*L(t)**2 + \\delta**2*p_1*u*v*L(t) - \\delta**2*p_2*u*v*L(t) + \\delta**2*s*L(t)**2 - 2*\\delta**2*u*L(t) + 2*\\delta**2*L(t)*N(t) + 3*\\delta*p_1*q*s*u**2*v*L(t) - 4*\\delta*p_1*q*s*u*v*L(t)*N(t) + 2*\\delta*p_1*q*u**2*v**2*L(t) + \\delta*p_1*s*u*v*L(t) - \\delta*p_1*u**2*v + \\delta*p_1*u*v*N(t) - \\delta*p_2*s*u*v*L(t) + \\delta*p_2*u**2*v - \\delta*p_2*u*v*N(t) - 2*\\delta*s*u*L(t) + 2*\\delta*s*L(t)*N(t) + \\delta*u**2 - \\delta*u*v*L(t) - 2*\\delta*u*N(t) + \\delta*N(t)**2 - p_1*q*s*u**3*v + 3*p_1*q*s*u**2*v*N(t) - 2*p_1*q*s*u*v*N(t)**2 - p_1*q*u**3*v**2 + 2*p_1*q*u**2*v**2*N(t) - p_1*s*u**2*v + p_1*s*u*v*N(t) - p_1*u**2*v**2 + p_2*s*u**2*v - p_2*s*u*v*N(t) + p_2*u**2*v**2 + s*u**2 - 2*s*u*N(t) + s*N(t)**2 + u**2*v - u*v*N(t))/(-\\delta*p_1*q*s*u*v*L(t) + p_1*q*s*u**2*v - p_1*q*s*u*v*N(t) + p_1*q*u**2*v**2)]])"
      ]
     },
     "execution_count": 35,
     "metadata": {},
     "output_type": "execute_result"
    }
   ],
   "source": [
    "_23"
   ]
  },
  {
   "cell_type": "code",
   "execution_count": 38,
   "id": "7e50a02d-8a0a-4f44-8dd5-3b1cd0a80762",
   "metadata": {},
   "outputs": [
    {
     "data": {
      "text/latex": [
       "$\\displaystyle \\frac{\\delta^{3} L^{2}{\\left(t \\right)} - 2 \\delta^{2} p_{1} q s u v L^{2}{\\left(t \\right)} + \\delta^{2} p_{1} u v L{\\left(t \\right)} - \\delta^{2} p_{2} u v L{\\left(t \\right)} + \\delta^{2} s L^{2}{\\left(t \\right)} - 2 \\delta^{2} u L{\\left(t \\right)} + 2 \\delta^{2} L{\\left(t \\right)} N{\\left(t \\right)} + 3 \\delta p_{1} q s u^{2} v L{\\left(t \\right)} - 4 \\delta p_{1} q s u v L{\\left(t \\right)} N{\\left(t \\right)} + 2 \\delta p_{1} q u^{2} v^{2} L{\\left(t \\right)} + \\delta p_{1} s u v L{\\left(t \\right)} - \\delta p_{1} u^{2} v + \\delta p_{1} u v N{\\left(t \\right)} - \\delta p_{2} s u v L{\\left(t \\right)} + \\delta p_{2} u^{2} v - \\delta p_{2} u v N{\\left(t \\right)} - 2 \\delta s u L{\\left(t \\right)} + 2 \\delta s L{\\left(t \\right)} N{\\left(t \\right)} + \\delta u^{2} - \\delta u v L{\\left(t \\right)} - 2 \\delta u N{\\left(t \\right)} + \\delta N^{2}{\\left(t \\right)} - p_{1} q s u^{3} v + 3 p_{1} q s u^{2} v N{\\left(t \\right)} - 2 p_{1} q s u v N^{2}{\\left(t \\right)} - p_{1} q u^{3} v^{2} + 2 p_{1} q u^{2} v^{2} N{\\left(t \\right)} - p_{1} s u^{2} v + p_{1} s u v N{\\left(t \\right)} - p_{1} u^{2} v^{2} + p_{2} s u^{2} v - p_{2} s u v N{\\left(t \\right)} + p_{2} u^{2} v^{2} + s u^{2} - 2 s u N{\\left(t \\right)} + s N^{2}{\\left(t \\right)} + u^{2} v - u v N{\\left(t \\right)}}{- \\delta p_{1} q s u v L{\\left(t \\right)} + p_{1} q s u^{2} v - p_{1} q s u v N{\\left(t \\right)} + p_{1} q u^{2} v^{2}}$"
      ],
      "text/plain": [
       "(\\delta**3*L(t)**2 - 2*\\delta**2*p_1*q*s*u*v*L(t)**2 + \\delta**2*p_1*u*v*L(t) - \\delta**2*p_2*u*v*L(t) + \\delta**2*s*L(t)**2 - 2*\\delta**2*u*L(t) + 2*\\delta**2*L(t)*N(t) + 3*\\delta*p_1*q*s*u**2*v*L(t) - 4*\\delta*p_1*q*s*u*v*L(t)*N(t) + 2*\\delta*p_1*q*u**2*v**2*L(t) + \\delta*p_1*s*u*v*L(t) - \\delta*p_1*u**2*v + \\delta*p_1*u*v*N(t) - \\delta*p_2*s*u*v*L(t) + \\delta*p_2*u**2*v - \\delta*p_2*u*v*N(t) - 2*\\delta*s*u*L(t) + 2*\\delta*s*L(t)*N(t) + \\delta*u**2 - \\delta*u*v*L(t) - 2*\\delta*u*N(t) + \\delta*N(t)**2 - p_1*q*s*u**3*v + 3*p_1*q*s*u**2*v*N(t) - 2*p_1*q*s*u*v*N(t)**2 - p_1*q*u**3*v**2 + 2*p_1*q*u**2*v**2*N(t) - p_1*s*u**2*v + p_1*s*u*v*N(t) - p_1*u**2*v**2 + p_2*s*u**2*v - p_2*s*u*v*N(t) + p_2*u**2*v**2 + s*u**2 - 2*s*u*N(t) + s*N(t)**2 + u**2*v - u*v*N(t))/(-\\delta*p_1*q*s*u*v*L(t) + p_1*q*s*u**2*v - p_1*q*s*u*v*N(t) + p_1*q*u**2*v**2)"
      ]
     },
     "execution_count": 38,
     "metadata": {},
     "output_type": "execute_result"
    }
   ],
   "source": [
    "_35[3]"
   ]
  },
  {
   "cell_type": "code",
   "execution_count": 24,
   "id": "5eda2057-271d-409a-8bb5-0de3b7551ae3",
   "metadata": {},
   "outputs": [
    {
     "data": {
      "text/latex": [
       "$\\displaystyle \\frac{\\delta^{3} p_{1} q u v L^{2}{\\left(t \\right)}}{- \\delta p_{1} q s u v L{\\left(t \\right)} + p_{1} q s u^{2} v - p_{1} q s u v N{\\left(t \\right)} + p_{1} q u^{2} v^{2}} - \\frac{2 \\delta^{2} p_{1}^{2} q^{2} s u^{2} v^{2} L^{2}{\\left(t \\right)}}{- \\delta p_{1} q s u v L{\\left(t \\right)} + p_{1} q s u^{2} v - p_{1} q s u v N{\\left(t \\right)} + p_{1} q u^{2} v^{2}} + \\frac{\\delta^{2} p_{1}^{2} q u^{2} v^{2} L{\\left(t \\right)}}{- \\delta p_{1} q s u v L{\\left(t \\right)} + p_{1} q s u^{2} v - p_{1} q s u v N{\\left(t \\right)} + p_{1} q u^{2} v^{2}} - \\frac{\\delta^{2} p_{1} p_{2} q u^{2} v^{2} L{\\left(t \\right)}}{- \\delta p_{1} q s u v L{\\left(t \\right)} + p_{1} q s u^{2} v - p_{1} q s u v N{\\left(t \\right)} + p_{1} q u^{2} v^{2}} + \\frac{\\delta^{2} p_{1} q s u v L^{2}{\\left(t \\right)}}{- \\delta p_{1} q s u v L{\\left(t \\right)} + p_{1} q s u^{2} v - p_{1} q s u v N{\\left(t \\right)} + p_{1} q u^{2} v^{2}} - \\frac{2 \\delta^{2} p_{1} q u^{2} v L{\\left(t \\right)}}{- \\delta p_{1} q s u v L{\\left(t \\right)} + p_{1} q s u^{2} v - p_{1} q s u v N{\\left(t \\right)} + p_{1} q u^{2} v^{2}} + \\frac{2 \\delta^{2} p_{1} q u v L{\\left(t \\right)} N{\\left(t \\right)}}{- \\delta p_{1} q s u v L{\\left(t \\right)} + p_{1} q s u^{2} v - p_{1} q s u v N{\\left(t \\right)} + p_{1} q u^{2} v^{2}} + \\frac{3 \\delta p_{1}^{2} q^{2} s u^{3} v^{2} L{\\left(t \\right)}}{- \\delta p_{1} q s u v L{\\left(t \\right)} + p_{1} q s u^{2} v - p_{1} q s u v N{\\left(t \\right)} + p_{1} q u^{2} v^{2}} - \\frac{4 \\delta p_{1}^{2} q^{2} s u^{2} v^{2} L{\\left(t \\right)} N{\\left(t \\right)}}{- \\delta p_{1} q s u v L{\\left(t \\right)} + p_{1} q s u^{2} v - p_{1} q s u v N{\\left(t \\right)} + p_{1} q u^{2} v^{2}} + \\frac{2 \\delta p_{1}^{2} q^{2} u^{3} v^{3} L{\\left(t \\right)}}{- \\delta p_{1} q s u v L{\\left(t \\right)} + p_{1} q s u^{2} v - p_{1} q s u v N{\\left(t \\right)} + p_{1} q u^{2} v^{2}} + \\frac{\\delta p_{1}^{2} q s u^{2} v^{2} L{\\left(t \\right)}}{- \\delta p_{1} q s u v L{\\left(t \\right)} + p_{1} q s u^{2} v - p_{1} q s u v N{\\left(t \\right)} + p_{1} q u^{2} v^{2}} - \\frac{\\delta p_{1}^{2} q u^{3} v^{2}}{- \\delta p_{1} q s u v L{\\left(t \\right)} + p_{1} q s u^{2} v - p_{1} q s u v N{\\left(t \\right)} + p_{1} q u^{2} v^{2}} + \\frac{\\delta p_{1}^{2} q u^{2} v^{2} N{\\left(t \\right)}}{- \\delta p_{1} q s u v L{\\left(t \\right)} + p_{1} q s u^{2} v - p_{1} q s u v N{\\left(t \\right)} + p_{1} q u^{2} v^{2}} - \\frac{\\delta p_{1} p_{2} q s u^{2} v^{2} L{\\left(t \\right)}}{- \\delta p_{1} q s u v L{\\left(t \\right)} + p_{1} q s u^{2} v - p_{1} q s u v N{\\left(t \\right)} + p_{1} q u^{2} v^{2}} + \\frac{\\delta p_{1} p_{2} q u^{3} v^{2}}{- \\delta p_{1} q s u v L{\\left(t \\right)} + p_{1} q s u^{2} v - p_{1} q s u v N{\\left(t \\right)} + p_{1} q u^{2} v^{2}} - \\frac{\\delta p_{1} p_{2} q u^{2} v^{2} N{\\left(t \\right)}}{- \\delta p_{1} q s u v L{\\left(t \\right)} + p_{1} q s u^{2} v - p_{1} q s u v N{\\left(t \\right)} + p_{1} q u^{2} v^{2}} - \\frac{2 \\delta p_{1} q s u^{2} v L{\\left(t \\right)}}{- \\delta p_{1} q s u v L{\\left(t \\right)} + p_{1} q s u^{2} v - p_{1} q s u v N{\\left(t \\right)} + p_{1} q u^{2} v^{2}} + \\frac{2 \\delta p_{1} q s u v L{\\left(t \\right)} N{\\left(t \\right)}}{- \\delta p_{1} q s u v L{\\left(t \\right)} + p_{1} q s u^{2} v - p_{1} q s u v N{\\left(t \\right)} + p_{1} q u^{2} v^{2}} + \\frac{\\delta p_{1} q u^{3} v}{- \\delta p_{1} q s u v L{\\left(t \\right)} + p_{1} q s u^{2} v - p_{1} q s u v N{\\left(t \\right)} + p_{1} q u^{2} v^{2}} - \\frac{\\delta p_{1} q u^{2} v^{2} L{\\left(t \\right)}}{- \\delta p_{1} q s u v L{\\left(t \\right)} + p_{1} q s u^{2} v - p_{1} q s u v N{\\left(t \\right)} + p_{1} q u^{2} v^{2}} - \\frac{2 \\delta p_{1} q u^{2} v N{\\left(t \\right)}}{- \\delta p_{1} q s u v L{\\left(t \\right)} + p_{1} q s u^{2} v - p_{1} q s u v N{\\left(t \\right)} + p_{1} q u^{2} v^{2}} + \\frac{\\delta p_{1} q u v N^{2}{\\left(t \\right)}}{- \\delta p_{1} q s u v L{\\left(t \\right)} + p_{1} q s u^{2} v - p_{1} q s u v N{\\left(t \\right)} + p_{1} q u^{2} v^{2}} - \\frac{p_{1}^{2} q^{2} s u^{4} v^{2}}{- \\delta p_{1} q s u v L{\\left(t \\right)} + p_{1} q s u^{2} v - p_{1} q s u v N{\\left(t \\right)} + p_{1} q u^{2} v^{2}} + \\frac{3 p_{1}^{2} q^{2} s u^{3} v^{2} N{\\left(t \\right)}}{- \\delta p_{1} q s u v L{\\left(t \\right)} + p_{1} q s u^{2} v - p_{1} q s u v N{\\left(t \\right)} + p_{1} q u^{2} v^{2}} - \\frac{2 p_{1}^{2} q^{2} s u^{2} v^{2} N^{2}{\\left(t \\right)}}{- \\delta p_{1} q s u v L{\\left(t \\right)} + p_{1} q s u^{2} v - p_{1} q s u v N{\\left(t \\right)} + p_{1} q u^{2} v^{2}} - \\frac{p_{1}^{2} q^{2} u^{4} v^{3}}{- \\delta p_{1} q s u v L{\\left(t \\right)} + p_{1} q s u^{2} v - p_{1} q s u v N{\\left(t \\right)} + p_{1} q u^{2} v^{2}} + \\frac{2 p_{1}^{2} q^{2} u^{3} v^{3} N{\\left(t \\right)}}{- \\delta p_{1} q s u v L{\\left(t \\right)} + p_{1} q s u^{2} v - p_{1} q s u v N{\\left(t \\right)} + p_{1} q u^{2} v^{2}} - \\frac{p_{1}^{2} q s u^{3} v^{2}}{- \\delta p_{1} q s u v L{\\left(t \\right)} + p_{1} q s u^{2} v - p_{1} q s u v N{\\left(t \\right)} + p_{1} q u^{2} v^{2}} + \\frac{p_{1}^{2} q s u^{2} v^{2} N{\\left(t \\right)}}{- \\delta p_{1} q s u v L{\\left(t \\right)} + p_{1} q s u^{2} v - p_{1} q s u v N{\\left(t \\right)} + p_{1} q u^{2} v^{2}} - \\frac{p_{1}^{2} q u^{3} v^{3}}{- \\delta p_{1} q s u v L{\\left(t \\right)} + p_{1} q s u^{2} v - p_{1} q s u v N{\\left(t \\right)} + p_{1} q u^{2} v^{2}} + \\frac{p_{1} p_{2} q s u^{3} v^{2}}{- \\delta p_{1} q s u v L{\\left(t \\right)} + p_{1} q s u^{2} v - p_{1} q s u v N{\\left(t \\right)} + p_{1} q u^{2} v^{2}} - \\frac{p_{1} p_{2} q s u^{2} v^{2} N{\\left(t \\right)}}{- \\delta p_{1} q s u v L{\\left(t \\right)} + p_{1} q s u^{2} v - p_{1} q s u v N{\\left(t \\right)} + p_{1} q u^{2} v^{2}} + \\frac{p_{1} p_{2} q u^{3} v^{3}}{- \\delta p_{1} q s u v L{\\left(t \\right)} + p_{1} q s u^{2} v - p_{1} q s u v N{\\left(t \\right)} + p_{1} q u^{2} v^{2}} + \\frac{p_{1} q s u^{3} v}{- \\delta p_{1} q s u v L{\\left(t \\right)} + p_{1} q s u^{2} v - p_{1} q s u v N{\\left(t \\right)} + p_{1} q u^{2} v^{2}} - \\frac{2 p_{1} q s u^{2} v N{\\left(t \\right)}}{- \\delta p_{1} q s u v L{\\left(t \\right)} + p_{1} q s u^{2} v - p_{1} q s u v N{\\left(t \\right)} + p_{1} q u^{2} v^{2}} + \\frac{p_{1} q s u v N^{2}{\\left(t \\right)}}{- \\delta p_{1} q s u v L{\\left(t \\right)} + p_{1} q s u^{2} v - p_{1} q s u v N{\\left(t \\right)} + p_{1} q u^{2} v^{2}} + \\frac{p_{1} q u^{3} v^{2}}{- \\delta p_{1} q s u v L{\\left(t \\right)} + p_{1} q s u^{2} v - p_{1} q s u v N{\\left(t \\right)} + p_{1} q u^{2} v^{2}} - \\frac{p_{1} q u^{2} v^{2} N{\\left(t \\right)}}{- \\delta p_{1} q s u v L{\\left(t \\right)} + p_{1} q s u^{2} v - p_{1} q s u v N{\\left(t \\right)} + p_{1} q u^{2} v^{2}}$"
      ],
      "text/plain": [
       "\\delta**3*p_1*q*u*v*L(t)**2/(-\\delta*p_1*q*s*u*v*L(t) + p_1*q*s*u**2*v - p_1*q*s*u*v*N(t) + p_1*q*u**2*v**2) - 2*\\delta**2*p_1**2*q**2*s*u**2*v**2*L(t)**2/(-\\delta*p_1*q*s*u*v*L(t) + p_1*q*s*u**2*v - p_1*q*s*u*v*N(t) + p_1*q*u**2*v**2) + \\delta**2*p_1**2*q*u**2*v**2*L(t)/(-\\delta*p_1*q*s*u*v*L(t) + p_1*q*s*u**2*v - p_1*q*s*u*v*N(t) + p_1*q*u**2*v**2) - \\delta**2*p_1*p_2*q*u**2*v**2*L(t)/(-\\delta*p_1*q*s*u*v*L(t) + p_1*q*s*u**2*v - p_1*q*s*u*v*N(t) + p_1*q*u**2*v**2) + \\delta**2*p_1*q*s*u*v*L(t)**2/(-\\delta*p_1*q*s*u*v*L(t) + p_1*q*s*u**2*v - p_1*q*s*u*v*N(t) + p_1*q*u**2*v**2) - 2*\\delta**2*p_1*q*u**2*v*L(t)/(-\\delta*p_1*q*s*u*v*L(t) + p_1*q*s*u**2*v - p_1*q*s*u*v*N(t) + p_1*q*u**2*v**2) + 2*\\delta**2*p_1*q*u*v*L(t)*N(t)/(-\\delta*p_1*q*s*u*v*L(t) + p_1*q*s*u**2*v - p_1*q*s*u*v*N(t) + p_1*q*u**2*v**2) + 3*\\delta*p_1**2*q**2*s*u**3*v**2*L(t)/(-\\delta*p_1*q*s*u*v*L(t) + p_1*q*s*u**2*v - p_1*q*s*u*v*N(t) + p_1*q*u**2*v**2) - 4*\\delta*p_1**2*q**2*s*u**2*v**2*L(t)*N(t)/(-\\delta*p_1*q*s*u*v*L(t) + p_1*q*s*u**2*v - p_1*q*s*u*v*N(t) + p_1*q*u**2*v**2) + 2*\\delta*p_1**2*q**2*u**3*v**3*L(t)/(-\\delta*p_1*q*s*u*v*L(t) + p_1*q*s*u**2*v - p_1*q*s*u*v*N(t) + p_1*q*u**2*v**2) + \\delta*p_1**2*q*s*u**2*v**2*L(t)/(-\\delta*p_1*q*s*u*v*L(t) + p_1*q*s*u**2*v - p_1*q*s*u*v*N(t) + p_1*q*u**2*v**2) - \\delta*p_1**2*q*u**3*v**2/(-\\delta*p_1*q*s*u*v*L(t) + p_1*q*s*u**2*v - p_1*q*s*u*v*N(t) + p_1*q*u**2*v**2) + \\delta*p_1**2*q*u**2*v**2*N(t)/(-\\delta*p_1*q*s*u*v*L(t) + p_1*q*s*u**2*v - p_1*q*s*u*v*N(t) + p_1*q*u**2*v**2) - \\delta*p_1*p_2*q*s*u**2*v**2*L(t)/(-\\delta*p_1*q*s*u*v*L(t) + p_1*q*s*u**2*v - p_1*q*s*u*v*N(t) + p_1*q*u**2*v**2) + \\delta*p_1*p_2*q*u**3*v**2/(-\\delta*p_1*q*s*u*v*L(t) + p_1*q*s*u**2*v - p_1*q*s*u*v*N(t) + p_1*q*u**2*v**2) - \\delta*p_1*p_2*q*u**2*v**2*N(t)/(-\\delta*p_1*q*s*u*v*L(t) + p_1*q*s*u**2*v - p_1*q*s*u*v*N(t) + p_1*q*u**2*v**2) - 2*\\delta*p_1*q*s*u**2*v*L(t)/(-\\delta*p_1*q*s*u*v*L(t) + p_1*q*s*u**2*v - p_1*q*s*u*v*N(t) + p_1*q*u**2*v**2) + 2*\\delta*p_1*q*s*u*v*L(t)*N(t)/(-\\delta*p_1*q*s*u*v*L(t) + p_1*q*s*u**2*v - p_1*q*s*u*v*N(t) + p_1*q*u**2*v**2) + \\delta*p_1*q*u**3*v/(-\\delta*p_1*q*s*u*v*L(t) + p_1*q*s*u**2*v - p_1*q*s*u*v*N(t) + p_1*q*u**2*v**2) - \\delta*p_1*q*u**2*v**2*L(t)/(-\\delta*p_1*q*s*u*v*L(t) + p_1*q*s*u**2*v - p_1*q*s*u*v*N(t) + p_1*q*u**2*v**2) - 2*\\delta*p_1*q*u**2*v*N(t)/(-\\delta*p_1*q*s*u*v*L(t) + p_1*q*s*u**2*v - p_1*q*s*u*v*N(t) + p_1*q*u**2*v**2) + \\delta*p_1*q*u*v*N(t)**2/(-\\delta*p_1*q*s*u*v*L(t) + p_1*q*s*u**2*v - p_1*q*s*u*v*N(t) + p_1*q*u**2*v**2) - p_1**2*q**2*s*u**4*v**2/(-\\delta*p_1*q*s*u*v*L(t) + p_1*q*s*u**2*v - p_1*q*s*u*v*N(t) + p_1*q*u**2*v**2) + 3*p_1**2*q**2*s*u**3*v**2*N(t)/(-\\delta*p_1*q*s*u*v*L(t) + p_1*q*s*u**2*v - p_1*q*s*u*v*N(t) + p_1*q*u**2*v**2) - 2*p_1**2*q**2*s*u**2*v**2*N(t)**2/(-\\delta*p_1*q*s*u*v*L(t) + p_1*q*s*u**2*v - p_1*q*s*u*v*N(t) + p_1*q*u**2*v**2) - p_1**2*q**2*u**4*v**3/(-\\delta*p_1*q*s*u*v*L(t) + p_1*q*s*u**2*v - p_1*q*s*u*v*N(t) + p_1*q*u**2*v**2) + 2*p_1**2*q**2*u**3*v**3*N(t)/(-\\delta*p_1*q*s*u*v*L(t) + p_1*q*s*u**2*v - p_1*q*s*u*v*N(t) + p_1*q*u**2*v**2) - p_1**2*q*s*u**3*v**2/(-\\delta*p_1*q*s*u*v*L(t) + p_1*q*s*u**2*v - p_1*q*s*u*v*N(t) + p_1*q*u**2*v**2) + p_1**2*q*s*u**2*v**2*N(t)/(-\\delta*p_1*q*s*u*v*L(t) + p_1*q*s*u**2*v - p_1*q*s*u*v*N(t) + p_1*q*u**2*v**2) - p_1**2*q*u**3*v**3/(-\\delta*p_1*q*s*u*v*L(t) + p_1*q*s*u**2*v - p_1*q*s*u*v*N(t) + p_1*q*u**2*v**2) + p_1*p_2*q*s*u**3*v**2/(-\\delta*p_1*q*s*u*v*L(t) + p_1*q*s*u**2*v - p_1*q*s*u*v*N(t) + p_1*q*u**2*v**2) - p_1*p_2*q*s*u**2*v**2*N(t)/(-\\delta*p_1*q*s*u*v*L(t) + p_1*q*s*u**2*v - p_1*q*s*u*v*N(t) + p_1*q*u**2*v**2) + p_1*p_2*q*u**3*v**3/(-\\delta*p_1*q*s*u*v*L(t) + p_1*q*s*u**2*v - p_1*q*s*u*v*N(t) + p_1*q*u**2*v**2) + p_1*q*s*u**3*v/(-\\delta*p_1*q*s*u*v*L(t) + p_1*q*s*u**2*v - p_1*q*s*u*v*N(t) + p_1*q*u**2*v**2) - 2*p_1*q*s*u**2*v*N(t)/(-\\delta*p_1*q*s*u*v*L(t) + p_1*q*s*u**2*v - p_1*q*s*u*v*N(t) + p_1*q*u**2*v**2) + p_1*q*s*u*v*N(t)**2/(-\\delta*p_1*q*s*u*v*L(t) + p_1*q*s*u**2*v - p_1*q*s*u*v*N(t) + p_1*q*u**2*v**2) + p_1*q*u**3*v**2/(-\\delta*p_1*q*s*u*v*L(t) + p_1*q*s*u**2*v - p_1*q*s*u*v*N(t) + p_1*q*u**2*v**2) - p_1*q*u**2*v**2*N(t)/(-\\delta*p_1*q*s*u*v*L(t) + p_1*q*s*u**2*v - p_1*q*s*u*v*N(t) + p_1*q*u**2*v**2)"
      ]
     },
     "execution_count": 24,
     "metadata": {},
     "output_type": "execute_result"
    }
   ],
   "source": [
    "expand(_23[3]*p_1*q*u*v)"
   ]
  },
  {
   "cell_type": "code",
   "execution_count": null,
   "id": "4f20e012-55e1-43f8-b104-4d874e542241",
   "metadata": {},
   "outputs": [],
   "source": [
    "#run_jacobian_steps(jacobian, {N: (p_1-p_2-T)/(p_1*q), L: N*T/(s*T+1), T: (-delta*L+u-N)/u/v, D: 0})\n",
    "run_jacobian_steps(jacobian, {N: 1e5, L: 2e1, T: 1e6, D: 0})"
   ]
  },
  {
   "cell_type": "markdown",
   "id": "1bbc556b-d424-43f7-9982-955be6fc0817",
   "metadata": {},
   "source": [
    "Starting with the trivial solution ($N_0=L_0=T_0=D_0=0$) as a sanity check, we have"
   ]
  },
  {
   "cell_type": "code",
   "execution_count": null,
   "id": "b8c96ca1-f1bd-4c38-a7f8-a827f08d4812",
   "metadata": {},
   "outputs": [],
   "source": [
    "run_jacobian_steps(jacobian, {N: 0, L: 0, T: 0, D: 0})"
   ]
  },
  {
   "cell_type": "markdown",
   "id": "7acdaaa5-fe4e-45a5-88a4-82021974c190",
   "metadata": {},
   "source": [
    "Since $u$ has a positive sign, $-1$ has a negative sign, and $p_1-p_2$ could be positive or negative, we can conclude that $O(0,0,0,0)$ is a saddle point."
   ]
  },
  {
   "cell_type": "markdown",
   "id": "8eadc52b-436c-436c-b378-49022131549e",
   "metadata": {},
   "source": [
    "Next we try $N_0=\\frac{1}{q}$, $L_0=T_0=D_0=0$, to compare with the Zhang paper:"
   ]
  },
  {
   "cell_type": "code",
   "execution_count": null,
   "id": "a717aa86-0b3f-4ca8-8e9f-e6104364e877",
   "metadata": {},
   "outputs": [],
   "source": [
    "run_jacobian_steps(jacobian, {N: 1/q, L: 0, T: 0, D: 0, p_2: 0})"
   ]
  },
  {
   "cell_type": "markdown",
   "id": "ff8f3da8-dba3-402c-961b-7a51101f8e19",
   "metadata": {},
   "source": [
    "Thankfully, these are essentially the same results as Zhang. The eigenvalues $-p_1$ and $-1$ are negative, while $u-\\frac{1}{q}$ could be negative or positive. Since $u$ and $q$ are positive, $u - \\frac{1}{q}$ will only be negative when $u < \\frac{1}{q}$ or when $q < \\frac{1}{u}$. So this set of initial conditions is a saddle point when $q > \\frac{1}{u}$, and a stable sink when $0 < q < \\frac{1}{u}$."
   ]
  },
  {
   "cell_type": "markdown",
   "id": "063b2df3-2d38-4550-875d-f007f1869a47",
   "metadata": {},
   "source": [
    "Next we check the critical point of $N$ with $N_0=\\frac{p_1-p_2}{p_1 q}$, $L_0=T_0=D_0=0$."
   ]
  },
  {
   "cell_type": "code",
   "execution_count": null,
   "id": "0ba06004-7987-4844-a767-2e00611c5bc8",
   "metadata": {},
   "outputs": [],
   "source": [
    "run_jacobian_steps(jacobian, {N: (p_1-p_2)/p_1/q, L: 0, T: 0, D: 0})"
   ]
  },
  {
   "cell_type": "code",
   "execution_count": null,
   "id": "5389d64a-f2ae-43ea-80bd-4e2479ec80fc",
   "metadata": {},
   "outputs": [],
   "source": [
    "run_jacobian_steps(jacobian, {N: (p_1-p_2+sqrt(4*k_n*p_1*q*D+p_1**2-2*p_1*p_2+p_2**2))/p_1/q/2, L: 0, T: 0, D: 0})"
   ]
  },
  {
   "cell_type": "code",
   "execution_count": null,
   "id": "6d478373-8255-47b8-844e-f0d6ae464e24",
   "metadata": {},
   "outputs": [],
   "source": [
    "(p_1-p_2+factor(sqrt(p_1**2+2*p_1*p_2+p_2**2)))/2/p_1/q"
   ]
  },
  {
   "cell_type": "code",
   "execution_count": null,
   "id": "569e42c8-4266-41b2-bde6-7f9113c55890",
   "metadata": {},
   "outputs": [],
   "source": [
    "run_jacobian_steps(jacobian, {N: 1/q, L: 0, T: 0, D: 0})"
   ]
  },
  {
   "cell_type": "markdown",
   "id": "2cb783e5-4cc7-42af-9e9a-d401b72d238b",
   "metadata": {},
   "source": [
    "The eigenvalue $-1$ is negative, while $u+\\frac{p_2}{p_1 q}-\\frac{1}{q}$ and $p_2-p_1$ could be negative or positive. This is a fair bit more complicated, so we'll need a table from here on out.\n",
    "\n",
    "| parameters | range | eigenvalue | stability |\n",
    "|-----------|-------|------------|--------|\n",
    "| $p_1$ | $(0, p_2)$ | $p_2-p_1 \\gt 0$ | depends on $q$, or unstable source because $p_2 \\in (p_1, \\infty)$ |\n",
    "| $p_1$ | $(p_2, \\infty)$ | $p_2-p_1 \\lt 0$ | saddle point |\n",
    "| $p_2$ | $(p_1, \\infty)$ | $u+\\frac{1}{q}(\\frac{p_2}{p1}-1) \\gt 0$ | unstable source |\n",
    "| $q$, $p_2$ | $q \\in (0, \\frac{1}{u}(1-\\frac{p_2}{p_q}))$ and $p_2 \\in (0, p_1)$ | $u+\\frac{1}{q}(\\frac{p_2}{p1}-1)$ | still thinking on this one |"
   ]
  },
  {
   "cell_type": "markdown",
   "id": "b2894cd3-bc55-4cf9-a6ab-5d570ffc13a0",
   "metadata": {},
   "source": [
    "## Drug Dosing Interval"
   ]
  },
  {
   "cell_type": "code",
   "execution_count": null,
   "id": "0a97447b-f266-405f-ab67-4c887b809940",
   "metadata": {},
   "outputs": [],
   "source": [
    "import scipy.interpolate"
   ]
  },
  {
   "cell_type": "code",
   "execution_count": null,
   "id": "c6d7f811-c412-4d2a-9bd0-551f20ea4527",
   "metadata": {},
   "outputs": [],
   "source": [
    "concentrations = modeling_utils.mk_drug_concentration_table(11.23, 6*21)"
   ]
  },
  {
   "cell_type": "code",
   "execution_count": null,
   "id": "a503b41c-0839-40ec-bd4f-7d14733d9ee6",
   "metadata": {},
   "outputs": [],
   "source": [
    "il2 = scipy.interpolate.CubicSpline(concentrations.index, concentrations['Interleukin-2'])\n",
    "cyclo = scipy.interpolate.CubicSpline(concentrations.index, concentrations['Cyclophosphamide'])"
   ]
  },
  {
   "cell_type": "code",
   "execution_count": null,
   "id": "c4dce7c7-cadb-4850-aa3d-f6a547b6ae15",
   "metadata": {},
   "outputs": [],
   "source": [
    "cyclo = scipy.interpolate.CubicSpline(\n",
    "    concentrations.index,\n",
    "    np.nan_to_num(concentrations['Cyclophosphamide'].shift(10*24*60))\n",
    ")"
   ]
  },
  {
   "cell_type": "code",
   "execution_count": null,
   "id": "dc129f15-8aa6-4580-93df-46e1869410a4",
   "metadata": {},
   "outputs": [],
   "source": [
    "il2.derivative("
   ]
  },
  {
   "cell_type": "code",
   "execution_count": null,
   "id": "6f95d03e-8aff-404d-b409-477634ab4b74",
   "metadata": {},
   "outputs": [],
   "source": [
    "model(0,[1,1,1,0,0])"
   ]
  },
  {
   "cell_type": "code",
   "execution_count": null,
   "id": "9374ac42-206a-4f08-97b8-2752dd9c54f3",
   "metadata": {
    "jupyter": {
     "source_hidden": true
    }
   },
   "outputs": [],
   "source": [
    "model_def = tomlkit.loads(Path('model.toml').read_text())\n",
    "case = tomlkit.loads(Path('pillis-2008-no_tumor.toml').read_text())\n",
    "base_params = tomlkit.loads(Path('parameters-mk03.toml').read_text())\n",
    "\n",
    "\n",
    "display(modeling_utils.params2df(base_params['parameters']))\n",
    "\n",
    "\n",
    "for risk_level, ivs in base_params['initial_values'].items():\n",
    "    subs = ( modeling_utils.mk_subs_from_params(base_params['parameters'])\n",
    "           | modeling_utils.mk_subs_from_params(ivs)\n",
    "           #| {symbols('I_2'): il2, symbols('C'): cyclo}\n",
    "           )\n",
    "    \n",
    "    display(modeling_utils.ivs2df(ivs))\n",
    "    \n",
    "    new_system = dict()\n",
    "    \n",
    "    for k, v in model_def['basic'].items():\n",
    "        equation = sympify(v, {c: Function(c) for c in ivs.keys()})\n",
    "        new_system[Function(k)(symbols('t'))] = Eq(symbols(k), equation)\n",
    "        display(Eq(Function(k)(symbols('t')), equation.subs(subs)))\n",
    "        #sympy.printing.tree.print_tree(equation, assumptions=False)\n",
    "    \n",
    "    model = mk_model(\n",
    "        new_system,\n",
    "        [symbols('t')] + [Function(c)(symbols('t')) for c in ivs.keys()],\n",
    "        subs,\n",
    "        [il2, cyclo],\n",
    "    )\n",
    "    \n",
    "    #print([ivs['N'], ivs['L'], ivs['T'], ivs['D']])\n",
    "    end_step = 21*3\n",
    "    print(end_step)\n",
    "    sol = solve_ivp(model, [0, end_step], list(ivs.values()), max_step=0.01)\n",
    "    df_1 = pd.DataFrame(\n",
    "        {'days': sol.t\n",
    "        } | {sym: sol.y[ix]\n",
    "                           for ix, sym in enumerate(ivs.keys())}\n",
    "    ).set_index('days')\n",
    "    df_1['I_2'] = il2(df_1.index)\n",
    "    df_1['C'] = cyclo(df_1.index)\n",
    "    ax = sns.lineplot(df_1)\n",
    "    display(ax)\n",
    "    ax = None\n",
    "    \n",
    "    fig, axes = plt.subplots(1, 5, figsize=(10,2))\n",
    "    for ix, ax in enumerate(axes):\n",
    "        sns.lineplot(df_1[df_1.columns[ix]], ax=ax)\n",
    "        ax.set_title(df_1.columns[ix])\n",
    "        if ix == 0:\n",
    "            ax.yaxis.set_label_text('cells')\n",
    "        else:\n",
    "            ax.yaxis.label.set_visible(False)\n",
    "    display(fig)"
   ]
  },
  {
   "cell_type": "code",
   "execution_count": null,
   "id": "993adf5f-9dab-4b9d-9a7c-93c9727a7bc2",
   "metadata": {},
   "outputs": [],
   "source": [
    "cyclo = lambda t: 0"
   ]
  },
  {
   "cell_type": "code",
   "execution_count": null,
   "id": "b21ab8ff-8e16-4cba-a16b-b7be652b0829",
   "metadata": {},
   "outputs": [],
   "source": [
    "import matplotlib.gridspec"
   ]
  },
  {
   "cell_type": "code",
   "execution_count": null,
   "id": "a5b22c8b-d079-439f-9fd6-9157f1c81f63",
   "metadata": {},
   "outputs": [],
   "source": [
    "0.75/8"
   ]
  },
  {
   "cell_type": "code",
   "execution_count": null,
   "id": "2e84e1cd-58ed-4e4f-89fc-b35f8ba25dbc",
   "metadata": {},
   "outputs": [],
   "source": [
    "[j**k for j in range(3) for k in range(3)]"
   ]
  },
  {
   "cell_type": "code",
   "execution_count": null,
   "id": "5706070d-e673-49f5-8391-10df1ed72911",
   "metadata": {},
   "outputs": [],
   "source": [
    "\n",
    "display(modeling_utils.params2df(base_params['parameters']).style.format('{:.4g}', subset='Value'))"
   ]
  },
  {
   "cell_type": "code",
   "execution_count": null,
   "id": "e3fee83d-d9e6-4f94-9092-ccf14291ed9f",
   "metadata": {},
   "outputs": [],
   "source": [
    "3.42e-3*1.0e-7"
   ]
  },
  {
   "cell_type": "code",
   "execution_count": null,
   "id": "f26cf490-fe29-48fc-a166-0bc8aa7acd49",
   "metadata": {},
   "outputs": [],
   "source": [
    "df_1"
   ]
  },
  {
   "cell_type": "code",
   "execution_count": null,
   "id": "f7720952-7aae-492b-a744-3861b296231b",
   "metadata": {},
   "outputs": [],
   "source": [
    "fig = make_subplots(\n",
    "    rows=2, cols=6,\n",
    "    specs=[[{\"colspan\": 2}, None, {\"colspan\": 2}, None, {\"colspan\": 2}, None],\n",
    "           [{\"colspan\": 3}, None, None, {\"colspan\": 3}, None, None]],\n",
    "    subplot_titles=['N', 'L', 'T', 'IL-2', 'Cyclophosphamide'],\n",
    "    row_titles=['Cells', 'mg'],\n",
    "    horizontal_spacing=0.05,\n",
    "    vertical_spacing=0.125,\n",
    "    print_grid=True,\n",
    ")"
   ]
  },
  {
   "cell_type": "code",
   "execution_count": null,
   "id": "d849bf02-1e1e-40a8-8775-95de4d0e84ab",
   "metadata": {},
   "outputs": [],
   "source": [
    "fig.add_trace(go.Scatter(x=df_1.index, y=df_1['N'], mode='lines'), row=1, col=1)\n",
    "fig.add_trace(go.Scatter(x=df_1.index, y=df_1['L'], mode='lines'), row=1, col=3)\n",
    "fig.add_trace(go.Scatter(x=df_1.index, y=df_1['T'], mode='lines'), row=1, col=5)\n",
    "fig.add_trace(go.Scatter(x=df_1.index, y=df_1['I_2'], mode='lines'), row=2, col=1)\n",
    "fig.add_trace(go.Scatter(x=df_1.index, y=df_1['C'], mode='lines'), row=2, col=4)\n",
    "None"
   ]
  },
  {
   "cell_type": "code",
   "execution_count": null,
   "id": "3e4f8c20-2401-4bc6-b97f-b5da43750188",
   "metadata": {},
   "outputs": [],
   "source": [
    "Image(data=fig\n",
    "      .update_layout(\n",
    "          template='simple_white',\n",
    "          margin_l=0,\n",
    "          margin_r=0,\n",
    "          margin_t=40,\n",
    "          margin_b=0,\n",
    "          showlegend=False,\n",
    "      )\n",
    "      .update_traces(row=1,col=1, line_color='#00aaff')\n",
    "      .update_traces(row=1,col=3, line_color='green')\n",
    "      .update_traces(row=1,col=5, line_color='orange')\n",
    "      .update_traces(row=2,col=1, line_color='blue')\n",
    "      .update_traces(row=2,col=4, line_color='purple')\n",
    "      .update_yaxes(title_text=\"cells\", row=1, col=1)\n",
    "      .update_yaxes(title_text=\"mg\", row=2, col=1)\n",
    "      .update_traces(line_width=2.25)\n",
    "      .to_image(format='png', scale=2))"
   ]
  },
  {
   "cell_type": "code",
   "execution_count": null,
   "id": "34611a74-b920-481c-94d9-11bf0ec56bcd",
   "metadata": {},
   "outputs": [],
   "source": [
    "modeling_utils.mk_subplots(df_1).update_yaxes(exponentformat='power', row=1)"
   ]
  },
  {
   "cell_type": "code",
   "execution_count": null,
   "id": "80b50ca9-0558-46d5-9ef9-4c6a948e878d",
   "metadata": {},
   "outputs": [],
   "source": [
    "Image(data=_.update_layout(height=450, width=750).to_image(format='png', scale=2))"
   ]
  },
  {
   "cell_type": "code",
   "execution_count": null,
   "id": "9a86615e-6df3-4c21-97c6-d5a9f15f0daf",
   "metadata": {},
   "outputs": [],
   "source": [
    "print(modeling_utils.ivs2df(ivs).style.format('{:.1e}', subset='Value').to_latex())"
   ]
  },
  {
   "cell_type": "code",
   "execution_count": null,
   "id": "44d2f4b8-1775-4824-89aa-411f08f9d272",
   "metadata": {},
   "outputs": [],
   "source": [
    "model_def = tomlkit.loads(Path('model.txt').read_text())\n",
    "base_params = tomlkit.loads(Path('parameters-mk04.txt').read_text())\n",
    "\n",
    "\n",
    "display(modeling_utils.params2df(base_params['parameters']).style.format('{:.4g}', subset='Value'))\n",
    "\n",
    "cases = list(base_params['initial_values'].items())\n",
    "\n",
    "cases = cases[2:]\n",
    "\n",
    "cases = [\n",
    "    new_case\n",
    "    for case in cases\n",
    "    for new_case in [\n",
    "        (*case,\n",
    "         lambda t: 0,\n",
    "         lambda t: 0),\n",
    "    \n",
    "        (*case,\n",
    "         scipy.interpolate.CubicSpline(concentrations.index, concentrations['Interleukin-2']),\n",
    "         lambda t: 0),\n",
    "    \n",
    "        (*case,\n",
    "         lambda t: 0,\n",
    "         scipy.interpolate.CubicSpline(concentrations.index, concentrations['Cyclophosphamide'])),\n",
    "    \n",
    "        (*case,\n",
    "         scipy.interpolate.CubicSpline(concentrations.index, concentrations['Interleukin-2']),\n",
    "         scipy.interpolate.CubicSpline(concentrations.index, concentrations['Cyclophosphamide'])),\n",
    "    ]\n",
    "    #(*cases[2],\n",
    "    # scipy.interpolate.CubicSpline(concentrations.index, concentrations['Interleukin-2']),\n",
    "    # scipy.interpolate.CubicSpline(\n",
    "    #     concentrations.index,\n",
    "    #     np.nan_to_num(concentrations['Cyclophosphamide'].shift(10*24*60)))),\n",
    "]\n",
    "\n",
    "for risk_level, ivs, il2, cyclo in cases:\n",
    "    subs = ( modeling_utils.mk_subs_from_params(base_params['parameters'])\n",
    "           | modeling_utils.mk_subs_from_params(ivs)\n",
    "           #| {symbols('I_2'): il2, symbols('C'): cyclo}\n",
    "           )\n",
    "    \n",
    "    display(modeling_utils.ivs2df(ivs).style.format('{:.1e}', subset='Value'))\n",
    "    \n",
    "    new_system = dict()\n",
    "    \n",
    "    for k, v in model_def['basic'].items():\n",
    "        equation = sympify(v, {c: Function(c) for c in ivs.keys()})\n",
    "        new_system[Function(k)(symbols('t'))] = Eq(symbols(k), equation)\n",
    "        display(Eq(Function(k)(symbols('t')), equation.subs(subs)))\n",
    "        #sympy.printing.tree.print_tree(equation, assumptions=False)\n",
    "    \n",
    "    model = mk_model(\n",
    "        new_system,\n",
    "        [symbols('t')] + [Function(c)(symbols('t')) for c in ivs.keys()],\n",
    "        subs,\n",
    "        [il2, cyclo],\n",
    "        #[lambda t: 0, lambda t: 0],\n",
    "    )\n",
    "    \n",
    "    #print([ivs['N'], ivs['L'], ivs['T'], ivs['D']])\n",
    "    end_step = 21*6\n",
    "    print(end_step)\n",
    "    sol = solve_ivp(model, [0, end_step], list(ivs.values())\n",
    "                    , max_step=1/60/24)\n",
    "                    #, max_step=1)\n",
    "    df_1 = pd.DataFrame(\n",
    "        {'days': sol.t\n",
    "        } | {sym: sol.y[ix]\n",
    "                           for ix, sym in enumerate(ivs.keys())}\n",
    "    ).set_index('days')\n",
    "    df_1['I_2'] = il2(df_1.index)\n",
    "    df_1['C'] = cyclo(df_1.index)\n",
    "    ax = sns.lineplot(df_1)\n",
    "    display(ax)\n",
    "    ax = None\n",
    "    \n",
    "    #fig, axes = plt.subplots(1, 5, figsize=(10,2))\n",
    "    figsize=(8,6)\n",
    "    fig = plt.figure(figsize=figsize)\n",
    "    gs = matplotlib.gridspec.GridSpec(2,6, wspace=figsize[0]/11, hspace=0.375)\n",
    "    grid_specs = [\n",
    "        ((0,0), 2),\n",
    "        ((0,2), 2),\n",
    "        ((0,4), 2),\n",
    "        ((1,0), 3),\n",
    "        ((1,3), 3),\n",
    "    ]\n",
    "    for ix, col in enumerate(df_1.columns):\n",
    "        position, width = grid_specs[ix]\n",
    "        ax = fig.add_subplot(gs.new_subplotspec(position, colspan=width))\n",
    "        sns.lineplot(df_1[col], ax=ax)\n",
    "        ax.set_title(col)\n",
    "        if ix == 0:\n",
    "            ax.yaxis.set_label_text('cells')\n",
    "        elif ix == 3:\n",
    "            ax.yaxis.set_label_text('mg')\n",
    "        else:\n",
    "            ax.yaxis.label.set_visible(False)\n",
    "        #if ix in [2]:\n",
    "        #    ax.set_yscale('log')\n",
    "    display(fig)"
   ]
  },
  {
   "cell_type": "code",
   "execution_count": null,
   "id": "12732304-125f-45bc-a9e3-e4a8f5b1dd54",
   "metadata": {},
   "outputs": [],
   "source": [
    "model_def = tomlkit.loads(Path('model.toml').read_text())\n",
    "case = tomlkit.loads(Path('pillis-2008-no_tumor.toml').read_text())\n",
    "base_params = tomlkit.loads(Path('parameters-mk04.toml').read_text())\n",
    "\n",
    "\n",
    "display(modeling_utils.params2df(base_params['parameters']).style.format('{:.4g}', subset='Value'))\n",
    "\n",
    "cases = list(base_params['initial_values'].items())\n",
    "\n",
    "cases = cases[2:]\n",
    "\n",
    "cases = [\n",
    "    new_case\n",
    "    for case in cases\n",
    "    for new_case in [\n",
    "        (*case,\n",
    "         lambda t: 0,\n",
    "         lambda t: 0),\n",
    "    \n",
    "        (*case,\n",
    "         scipy.interpolate.CubicSpline(concentrations.index, concentrations['Interleukin-2']),\n",
    "         lambda t: 0),\n",
    "    \n",
    "        (*case,\n",
    "         lambda t: 0,\n",
    "         scipy.interpolate.CubicSpline(concentrations.index, concentrations['Cyclophosphamide'])),\n",
    "    \n",
    "        (*case,\n",
    "         scipy.interpolate.CubicSpline(concentrations.index, concentrations['Interleukin-2']),\n",
    "         scipy.interpolate.CubicSpline(concentrations.index, concentrations['Cyclophosphamide'])),\n",
    "    ]\n",
    "    #(*cases[2],\n",
    "    # scipy.interpolate.CubicSpline(concentrations.index, concentrations['Interleukin-2']),\n",
    "    # scipy.interpolate.CubicSpline(\n",
    "    #     concentrations.index,\n",
    "    #     np.nan_to_num(concentrations['Cyclophosphamide'].shift(10*24*60)))),\n",
    "]\n",
    "\n",
    "for risk_level, ivs, il2, cyclo in cases:\n",
    "    subs = ( modeling_utils.mk_subs_from_params(base_params['parameters'])\n",
    "           | modeling_utils.mk_subs_from_params(ivs)\n",
    "           #| {symbols('I_2'): il2, symbols('C'): cyclo}\n",
    "           )\n",
    "    \n",
    "    display(modeling_utils.ivs2df(ivs).style.format('{:.1e}', subset='Value'))\n",
    "    \n",
    "    new_system = dict()\n",
    "    \n",
    "    for k, v in model_def['basic'].items():\n",
    "        equation = sympify(v, {c: Function(c) for c in ivs.keys()})\n",
    "        new_system[Function(k)(symbols('t'))] = Eq(symbols(k), equation)\n",
    "        display(Eq(Function(k)(symbols('t')), equation.subs(subs)))\n",
    "        #sympy.printing.tree.print_tree(equation, assumptions=False)\n",
    "    \n",
    "    model = mk_model(\n",
    "        new_system,\n",
    "        [symbols('t')] + [Function(c)(symbols('t')) for c in ivs.keys()],\n",
    "        subs,\n",
    "        [il2, cyclo],\n",
    "        #[lambda t: 0, lambda t: 0],\n",
    "    )\n",
    "    \n",
    "    #print([ivs['N'], ivs['L'], ivs['T'], ivs['D']])\n",
    "    end_step = 21*6\n",
    "    print(end_step)\n",
    "    sol = solve_ivp(model, [0, end_step], list(ivs.values())\n",
    "                    , max_step=1/60/24)\n",
    "                    #, max_step=1)\n",
    "    df_1 = pd.DataFrame(\n",
    "        {'days': sol.t\n",
    "        } | {sym: sol.y[ix]\n",
    "                           for ix, sym in enumerate(ivs.keys())}\n",
    "    ).set_index('days')\n",
    "    df_1['I_2'] = il2(df_1.index)\n",
    "    df_1['C'] = cyclo(df_1.index)\n",
    "    ax = sns.lineplot(df_1)\n",
    "    display(ax)\n",
    "    ax = None\n",
    "    \n",
    "    #fig, axes = plt.subplots(1, 5, figsize=(10,2))\n",
    "    figsize=(8,6)\n",
    "    fig = plt.figure(figsize=figsize)\n",
    "    gs = matplotlib.gridspec.GridSpec(2,6, wspace=figsize[0]/11, hspace=0.375)\n",
    "    grid_specs = [\n",
    "        ((0,0), 2),\n",
    "        ((0,2), 2),\n",
    "        ((0,4), 2),\n",
    "        ((1,0), 3),\n",
    "        ((1,3), 3),\n",
    "    ]\n",
    "    for ix, col in enumerate(df_1.columns):\n",
    "        position, width = grid_specs[ix]\n",
    "        ax = fig.add_subplot(gs.new_subplotspec(position, colspan=width))\n",
    "        sns.lineplot(df_1[col], ax=ax)\n",
    "        ax.set_title(col)\n",
    "        if ix == 0:\n",
    "            ax.yaxis.set_label_text('cells')\n",
    "        elif ix == 3:\n",
    "            ax.yaxis.set_label_text('mg')\n",
    "        else:\n",
    "            ax.yaxis.label.set_visible(False)\n",
    "        #if ix in [2]:\n",
    "        #    ax.set_yscale('log')\n",
    "    display(fig)"
   ]
  },
  {
   "cell_type": "code",
   "execution_count": null,
   "id": "ae9ab91e-b90c-4cf8-8c73-7d15c8304ade",
   "metadata": {},
   "outputs": [],
   "source": [
    "model_def = tomlkit.loads(Path('model.toml').read_text())\n",
    "case = tomlkit.loads(Path('pillis-2008-no_tumor.toml').read_text())\n",
    "base_params = tomlkit.loads(Path('parameters-mk03.toml').read_text())\n",
    "\n",
    "\n",
    "display(modeling_utils.params2df(base_params['parameters']))\n",
    "\n",
    "\n",
    "for risk_level, ivs in base_params['initial_values'].items():\n",
    "    subs = ( modeling_utils.mk_subs_from_params(base_params['parameters'])\n",
    "           | modeling_utils.mk_subs_from_params(ivs)\n",
    "           #| {symbols('I_2'): il2, symbols('C'): cyclo}\n",
    "           )\n",
    "    \n",
    "    display(modeling_utils.ivs2df(ivs))\n",
    "    \n",
    "    new_system = dict()\n",
    "    \n",
    "    for k, v in model_def['basic'].items():\n",
    "        equation = sympify(v, {c: Function(c) for c in ivs.keys()})\n",
    "        new_system[Function(k)(symbols('t'))] = Eq(symbols(k), equation)\n",
    "        display(Eq(Function(k)(symbols('t')), equation.subs(subs)))\n",
    "        #sympy.printing.tree.print_tree(equation, assumptions=False)\n",
    "    \n",
    "    model = mk_model(\n",
    "        new_system,\n",
    "        [symbols('t')] + [Function(c)(symbols('t')) for c in ivs.keys()],\n",
    "        subs,\n",
    "        #[il2, cyclo],\n",
    "        [lambda t: 0, lambda t: 0],\n",
    "    )\n",
    "    \n",
    "    #print([ivs['N'], ivs['L'], ivs['T'], ivs['D']])\n",
    "    end_step = 21*3\n",
    "    print(end_step)\n",
    "    sol = solve_ivp(model, [0, end_step], list(ivs.values()), max_step=1/60/24)\n",
    "    df_1 = pd.DataFrame(\n",
    "        {'days': sol.t\n",
    "        } | {sym: sol.y[ix]\n",
    "                           for ix, sym in enumerate(ivs.keys())}\n",
    "    ).set_index('days')\n",
    "    df_1['I_2'] = il2(df_1.index)\n",
    "    df_1['C'] = cyclo(df_1.index)\n",
    "    ax = sns.lineplot(df_1)\n",
    "    display(ax)\n",
    "    ax = None\n",
    "    \n",
    "    fig, axes = plt.subplots(1, 5, figsize=(10,2))\n",
    "    for ix, ax in enumerate(axes):\n",
    "        sns.lineplot(df_1[df_1.columns[ix]], ax=ax)\n",
    "        ax.set_title(df_1.columns[ix])\n",
    "        if ix == 0:\n",
    "            ax.yaxis.set_label_text('cells')\n",
    "        else:\n",
    "            ax.yaxis.label.set_visible(False)\n",
    "    display(fig)"
   ]
  },
  {
   "cell_type": "code",
   "execution_count": null,
   "id": "22b59537-675c-456e-b7d7-5eaa231b85ef",
   "metadata": {},
   "outputs": [],
   "source": []
  },
  {
   "cell_type": "markdown",
   "id": "82393689-a5e3-466d-9381-7282839e21a8",
   "metadata": {},
   "source": [
    "First we run a basic model with no tumor cells and a single dose of the drug."
   ]
  },
  {
   "cell_type": "raw",
   "id": "b2754125-e343-4128-8033-a162a2989120",
   "metadata": {},
   "source": [
    "case['initial_values']"
   ]
  },
  {
   "cell_type": "raw",
   "id": "d5b4ad10-e480-4da0-9cb1-ef866b07c115",
   "metadata": {},
   "source": [
    "non_dim_params | params"
   ]
  },
  {
   "cell_type": "raw",
   "id": "3386f6d5-2b77-4b09-ad0d-39cf5722a119",
   "metadata": {},
   "source": [
    "case"
   ]
  },
  {
   "cell_type": "raw",
   "id": "3833f1a1-4166-4091-9ab1-f96a2dba0a39",
   "metadata": {},
   "source": [
    "params"
   ]
  },
  {
   "cell_type": "raw",
   "id": "d9c86b1e-599b-4b78-b58f-512227ab123e",
   "metadata": {},
   "source": [
    "list(params.keys())[-5]"
   ]
  },
  {
   "cell_type": "raw",
   "id": "20bab7ea-2426-4b19-803a-e6a1a1951d4e",
   "metadata": {},
   "source": [
    "list(non_dim_params.keys())[-2]"
   ]
  },
  {
   "cell_type": "raw",
   "id": "b0664fba-6453-42ba-9921-d4719d94e132",
   "metadata": {},
   "source": [
    "_22.assumptions0"
   ]
  },
  {
   "cell_type": "raw",
   "id": "df00b1ec-0b88-49fe-a283-164b146beec1",
   "metadata": {},
   "source": [
    "_23.assumptions0"
   ]
  },
  {
   "cell_type": "raw",
   "id": "bcf0eba9-2ff6-448d-ba6a-1f257c8d4ffc",
   "metadata": {},
   "source": [
    "_22 == _23"
   ]
  },
  {
   "cell_type": "raw",
   "id": "38d7970d-aa74-42bd-a3f9-4b90981526f8",
   "metadata": {},
   "source": [
    "d"
   ]
  },
  {
   "cell_type": "raw",
   "id": "b2114b38-cb98-4bfc-88ff-84ebdbdc66db",
   "metadata": {},
   "source": [
    "list(params.keys())[9]"
   ]
  },
  {
   "cell_type": "raw",
   "id": "6406db59-4255-426d-a46d-eaed06981414",
   "metadata": {},
   "source": [
    "mu.assumptions0"
   ]
  },
  {
   "cell_type": "raw",
   "id": "31208cf2-7c17-4907-bb5e-9845ebfff29e",
   "metadata": {},
   "source": [
    "base_params[8].assumptions0"
   ]
  },
  {
   "cell_type": "raw",
   "id": "647d74a3-fdd8-4dbe-a6ce-43060e905e77",
   "metadata": {},
   "source": [
    "non_dim_params"
   ]
  },
  {
   "cell_type": "raw",
   "id": "dbfd84d2-9fb3-4d26-b545-1c60be0dee95",
   "metadata": {},
   "source": [
    "_32.assumptions0"
   ]
  },
  {
   "cell_type": "raw",
   "id": "22dcc663-2425-4f86-a6ff-2ca6bbbfd418",
   "metadata": {},
   "source": [
    "delta.assumptions0"
   ]
  },
  {
   "cell_type": "raw",
   "id": "a0e2ed75-0016-417d-81b3-0ea893e136d6",
   "metadata": {},
   "source": [
    "day.assumptions0"
   ]
  },
  {
   "cell_type": "raw",
   "id": "eccac38a-889e-439f-9ef2-9c20d047af64",
   "metadata": {},
   "source": [
    "create_symbol_globals(base_params)"
   ]
  },
  {
   "cell_type": "raw",
   "id": "bb7c4822-0319-4960-baff-7bab6a354f34",
   "metadata": {},
   "source": [
    "sympy.assumptions.global_assumptions"
   ]
  },
  {
   "cell_type": "raw",
   "id": "1c3b305b-1e9e-4ea3-b2d9-453e46f6d2dc",
   "metadata": {},
   "source": [
    "Q.positive(day)"
   ]
  },
  {
   "cell_type": "raw",
   "id": "d07b1a62-631b-4e84-800a-e2640ff57232",
   "metadata": {},
   "source": [
    "mu.assumptions0"
   ]
  },
  {
   "cell_type": "raw",
   "id": "455f32be-aac6-41b1-b49f-22ffd8bf93ac",
   "metadata": {},
   "source": [
    "with assuming(Q.positive(day)):\n",
    "    mu = mu/day"
   ]
  },
  {
   "cell_type": "raw",
   "id": "9a32cb09-fe2e-4643-916b-21f382adb1da",
   "metadata": {},
   "source": [
    "params"
   ]
  },
  {
   "cell_type": "raw",
   "id": "4e50b2f3-c554-4dce-bc08-01b0af3fd63b",
   "metadata": {},
   "source": [
    "non_dim_params[p_1].subs(params)"
   ]
  },
  {
   "cell_type": "raw",
   "id": "4dbf2269-61a9-4599-9f3b-24c59fae650d",
   "metadata": {},
   "source": [
    "case.value"
   ]
  },
  {
   "cell_type": "raw",
   "id": "a8620f56-cafb-4356-b33f-b8427d2bea98",
   "metadata": {},
   "source": [
    "print(case)"
   ]
  },
  {
   "cell_type": "code",
   "execution_count": null,
   "id": "4ee35019-0a90-49e2-b9d1-04a63aa91408",
   "metadata": {},
   "outputs": [],
   "source": [
    "case = modeling_utils.import_case('pillis-2008-no_tumor.toml', globals())\n",
    "case, params = case['case'], case['subs']\n",
    "param_df = modeling_utils.case2df(case)\n",
    "#params = modeling_utils.mk_subs_from_case(case, globals())\n",
    "non_dim_params = {lhs: sympify(params.get(lhs, rhs.subs(params)))\n",
    "                  for lhs, rhs in new_param_definitions.items() if lhs != tt }\n",
    "non_dim_param_df = pd.DataFrame([{\n",
    "    'Parameter': latex(sym, mode='inline'),\n",
    "    'Definition': latex(new_param_definitions[sym], mode=\"equation\"),\n",
    "    'Value': val.n(4)}\n",
    " for sym, val in non_dim_params.items()]).set_index('Parameter').transpose()\n",
    "\n",
    "display(param_df)\n",
    "display(IPython.display.HTML(non_dim_param_df.to_html()))\n",
    "\n",
    "model = mk_model(\n",
    "    nd_system,\n",
    "    [tt, N, L, T, D],\n",
    "    {lhs: rhs.n() for lhs, rhs in non_dim_params.items()} | {k: v for k,v in params.items() if k != tt})\n",
    "\n",
    "ivs = case['initial_values']\n",
    "#print([ivs['N'], ivs['L'], ivs['T'], ivs['D']])\n",
    "end_step = 20\n",
    "print(end_step)\n",
    "sol = solve_ivp(model, [0, end_step], [ivs['N'], ivs['L'], ivs['T'], ivs['D']])#, max_step=0.01)\n",
    "df_1 = pd.DataFrame(\n",
    "    {'scaled days': sol.t\n",
    "    } | {sym.name: sol.y[ix]\n",
    "                       for ix, sym in enumerate([N, L, T, D])}\n",
    ").set_index('scaled days')\n",
    "sns.lineplot(df_1)"
   ]
  },
  {
   "cell_type": "code",
   "execution_count": null,
   "id": "56c37c35-e919-464a-b5a5-f41acd222717",
   "metadata": {},
   "outputs": [],
   "source": [
    "#case = modeling_utils.import_case('working-params.toml')\n",
    "#param_df = modeling_utils.case2df(case)\n",
    "case = modeling_utils.import_case('working-params.toml', globals())\n",
    "case, params = case['case'], case['subs']\n",
    "param_df = modeling_utils.case2df(case)\n",
    "#params = modeling_utils.mk_subs_from_case(case, globals())\n",
    "non_dim_params = {lhs: sympify(params.get(lhs, rhs.subs(params))) for lhs, rhs in new_param_definitions.items() if lhs != tt }\n",
    "non_dim_param_df = pd.DataFrame([{\n",
    "    'Parameter': latex(sym, mode='inline'),\n",
    "    'Definition': latex(new_param_definitions[sym], mode=\"equation\"),\n",
    "    'Value': val.n(4)}\n",
    " for sym, val in non_dim_params.items()]).set_index('Parameter').transpose()\n",
    "\n",
    "display(param_df)\n",
    "display(IPython.display.HTML(non_dim_param_df.to_html()))\n",
    "\n",
    "model = mk_model(\n",
    "    nd_system,\n",
    "    [tt, N, L, T, D],\n",
    "    {lhs: rhs.n() for lhs, rhs in non_dim_params.items()} | {k: v for k,v in params.items() if k != tt})\n",
    "\n",
    "ivs = case['initial_values']\n",
    "#print([ivs['N'], ivs['L'], ivs['T'], ivs['D']])\n",
    "end_step = 20\n",
    "print(end_step)\n",
    "sol = solve_ivp(model, [0, end_step], [ivs['N'], ivs['L'], ivs['T'], ivs['D']])#, max_step=0.01)\n",
    "df_1 = pd.DataFrame(\n",
    "    {'scaled days': sol.t\n",
    "    } | {sym.name: sol.y[ix]\n",
    "                       for ix, sym in enumerate([N, L, T, D])}\n",
    ").set_index('scaled days')\n",
    "sns.lineplot(df_1)"
   ]
  },
  {
   "cell_type": "markdown",
   "id": "2b1d16e5-cd58-41f7-a4b8-a9f453eb0c28",
   "metadata": {},
   "source": [
    "Everything looks good here! The NK cells are building up to their carrying capacity and CTL cells are declining after a brief boost from the drug. Now we can add in some tumor cells."
   ]
  },
  {
   "cell_type": "code",
   "execution_count": null,
   "id": "189d0a65-da0b-4b98-8e57-af8c5eb3a79d",
   "metadata": {},
   "outputs": [],
   "source": [
    "model = mk_model(\n",
    "    nd_system,\n",
    "    [tt, N, L, T, D],\n",
    "    {\n",
    "        p_1: 1, q: 0.2, p_2: 0.5,\n",
    "        r: 1, s: 1,\n",
    "        u: 1, v: 0.1, delta: 0.1,\n",
    "        ht: 1, D_0_s: 8,\n",
    "    })\n",
    "\n",
    "sol = solve_ivp(model, [0, 20], [2, 5, 1.5, 8], max_step=0.1)\n",
    "df_2 = pd.DataFrame(\n",
    "    {'scaled days': sol.t} | {sym.name: sol.y[ix]\n",
    "                       for ix, sym in enumerate([N, L, T, D])}\n",
    ").set_index('scaled days')\n",
    "sns.lineplot(df_2)"
   ]
  },
  {
   "cell_type": "markdown",
   "id": "b986a64c-4724-4f6b-b0c1-8c8299e84e51",
   "metadata": {},
   "source": [
    "In this simulation the tumor cells grow out of control, killing all the NK and CTL cells."
   ]
  },
  {
   "cell_type": "markdown",
   "id": "c0543a08-809a-4089-bb10-ca2b64d9f700",
   "metadata": {},
   "source": [
    "We can try adjusting this by administering additional doses of the drug when CTL count is below a certain level."
   ]
  },
  {
   "cell_type": "code",
   "execution_count": null,
   "id": "ebd90fec-8dad-40fe-b26b-0e8bebaa8bb8",
   "metadata": {},
   "outputs": [],
   "source": [
    "model = mk_model(\n",
    "    nd_system | {D: Eq(Dp,\n",
    "                       Piecewise((5, L < 4),\n",
    "                                 (nd_system[D].rhs, True)))},\n",
    "    [tt, N, L, T, D],\n",
    "    {\n",
    "        p_1: 1, q: 0.2, p_2: 0.5,\n",
    "        r: 1, s: 1,\n",
    "        u: 1, v: 0.1, delta: 0.1,\n",
    "        ht: 1, D_0_s: 8,\n",
    "    })\n",
    "\n",
    "sol = solve_ivp(model, [0, 20], [2, 5, 1.5, 8], max_step=0.1)\n",
    "df_3 = pd.DataFrame(\n",
    "    {'scaled days': sol.t} | {sym.name: sol.y[ix]\n",
    "                       for ix, sym in enumerate([N, L, T, D])}\n",
    ").set_index('scaled days')\n",
    "sns.lineplot(df_3)"
   ]
  },
  {
   "cell_type": "markdown",
   "id": "85b12cd8-a90b-4b03-a59e-a6541c52334e",
   "metadata": {},
   "source": [
    "In this new simulation the tumor cells are suppressed thanks to the additional of doses of the CTL activating drug, and we can see NK cell count trending upwards towards the end of the graph."
   ]
  },
  {
   "cell_type": "code",
   "execution_count": null,
   "id": "443c2722-d2b0-4679-8723-641662101657",
   "metadata": {},
   "outputs": [],
   "source": [
    "fig = px.line(\n",
    "    pd.concat([df_1.assign(case=1),\n",
    "               df_2.assign(case=2),\n",
    "               df_3.assign(case=3)]),\n",
    "    facet_col='case',\n",
    "    width=1000,\n",
    "    height=500\n",
    ")\n",
    "Image(data=fig.to_image(format='png'))"
   ]
  },
  {
   "cell_type": "code",
   "execution_count": null,
   "id": "647a471a-bb9f-4f56-b6ee-5766f0a270cf",
   "metadata": {},
   "outputs": [],
   "source": [
    "import tomlkit"
   ]
  },
  {
   "cell_type": "code",
   "execution_count": null,
   "id": "47a15054-19ba-47bf-a8d0-a72cdc56bc0d",
   "metadata": {},
   "outputs": [],
   "source": [
    "tomlkit.loads(Path('case_0.toml').read_text())"
   ]
  },
  {
   "cell_type": "code",
   "execution_count": null,
   "id": "d41c1184-f60c-4c74-9266-47e7d474949a",
   "metadata": {},
   "outputs": [],
   "source": [
    "print(tomlkit.dumps({'parameters': {latex(sym, mode='inline'): {'Units': '', 'Description': '', 'Value': val, 'Source': ''} for sym, val in ({\n",
    "        p_1: 1, q: 0.2, p_2: 0.5,\n",
    "        r: 1, s: 1,\n",
    "        u: 1, v: 0.1, delta: 0.1,\n",
    "        ht: 1, D_0_s: 8,\n",
    "    }).items()}}))"
   ]
  },
  {
   "cell_type": "code",
   "execution_count": null,
   "id": "fc49becf-98e4-4acb-9287-9131f4425254",
   "metadata": {},
   "outputs": [],
   "source": [
    "tomlkit.loads(_24)"
   ]
  },
  {
   "cell_type": "code",
   "execution_count": null,
   "id": "db6d8e58-e159-40b4-b6d6-bfeb27867281",
   "metadata": {},
   "outputs": [],
   "source": [
    "_25['parameters']"
   ]
  },
  {
   "cell_type": "code",
   "execution_count": null,
   "id": "43259939-894b-422b-9504-cbcfe58e6209",
   "metadata": {},
   "outputs": [],
   "source": [
    "pd.DataFrame({f'${latex(symbols(sym))}$': vals for sym, vals in _27.items()}).transpose()"
   ]
  },
  {
   "cell_type": "code",
   "execution_count": null,
   "id": "5cf7661e-cb1d-4a14-a2f3-30306beffdd5",
   "metadata": {},
   "outputs": [],
   "source": [
    "import_params_from_clipboard_md()"
   ]
  },
  {
   "cell_type": "code",
   "execution_count": null,
   "id": "f276dcc2-ea8a-4ff6-bec3-cb4fd8783202",
   "metadata": {},
   "outputs": [],
   "source": [
    "_119.transpose().to_dict()"
   ]
  },
  {
   "cell_type": "code",
   "execution_count": null,
   "id": "4b4f07dc-918b-44d4-9631-193c6f465bfc",
   "metadata": {},
   "outputs": [],
   "source": [
    "tomlkit.dumps({\n",
    "    'initial_values': dict(N=0, L=1, T=2, D=3),\n",
    "    'parameters': _121,\n",
    "})"
   ]
  },
  {
   "cell_type": "code",
   "execution_count": null,
   "id": "8d1888ea-e8cd-4fb1-8004-bd8e3301c23a",
   "metadata": {},
   "outputs": [],
   "source": [
    "Path('pillis-2008.toml').write_text(_177)"
   ]
  },
  {
   "cell_type": "code",
   "execution_count": null,
   "id": "1d1099de-d683-448d-a615-b4c5c7a8e188",
   "metadata": {},
   "outputs": [],
   "source": [
    "pd.DataFrame(tomlkit.loads(Path('pillis-2008.toml').read_text())\n",
    "            ).transpose().rename_axis(index='Parameter')"
   ]
  },
  {
   "cell_type": "code",
   "execution_count": null,
   "id": "d9b70329-de02-4b27-adb0-5b14a1247664",
   "metadata": {},
   "outputs": [],
   "source": [
    "def mk_subs_from_df(df):\n",
    "    return {symbols(ix[1:-1].replace('\\\\',''),\n",
    "                    real=True,\n",
    "                    positive=True): row.Value\n",
    "            for ix, row in _126.iterrows()}"
   ]
  },
  {
   "cell_type": "code",
   "execution_count": null,
   "id": "af265dfa-a899-4a30-b2db-92562604f4f0",
   "metadata": {},
   "outputs": [],
   "source": [
    "mk_subs_from_df(_130)"
   ]
  },
  {
   "cell_type": "code",
   "execution_count": null,
   "id": "d62d66b6-7567-4ec3-9d0e-a8326b3669a3",
   "metadata": {},
   "outputs": [],
   "source": [
    "IPython.display.HTML(pd.DataFrame([{'Parameter': latex(lhs, mode='inline'),\n",
    "                                    'Definition': latex(rhs, mode=\"equation\"),\n",
    "                                  'Value': rhs.subs(_131 | {sympify('T(0)'): 2}).n(6)}\n",
    " for lhs, rhs in new_param_definitions.items()]).set_index('Parameter').transpose().to_html())"
   ]
  },
  {
   "cell_type": "code",
   "execution_count": null,
   "id": "037172e5-caa5-49c2-953d-39af943b71b3",
   "metadata": {},
   "outputs": [],
   "source": [
    "for lhs, rhs in new_param_definitions.items():\n",
    "    display(Eq(UnevaluatedExpr(Eq(lhs, rhs)), rhs.subs(_127)))"
   ]
  },
  {
   "cell_type": "code",
   "execution_count": null,
   "id": "546e5351-01e5-4039-b253-9a8be190dfa1",
   "metadata": {},
   "outputs": [],
   "source": [
    "for sym in [x[1:-1] for x in _74.index]:\n",
    "    display(Eq(symbols(sym), parameter_subs.get(symbols(sym), -1)))"
   ]
  },
  {
   "cell_type": "code",
   "execution_count": null,
   "id": "cc39d7ba-a8ed-4fa8-9df1-b71d057682fc",
   "metadata": {},
   "outputs": [],
   "source": [
    "pd.read_clipboard()"
   ]
  },
  {
   "cell_type": "code",
   "execution_count": null,
   "id": "c7f604b4-7f57-4f25-84e1-6b31be66d584",
   "metadata": {},
   "outputs": [],
   "source": [
    "pd.read_clipboard()"
   ]
  },
  {
   "cell_type": "code",
   "execution_count": null,
   "id": "0facad36-4c56-4be8-b00c-abe81f1be392",
   "metadata": {},
   "outputs": [],
   "source": [
    "_34.map(lambda x: x.strip() if type(x) == str else x)"
   ]
  },
  {
   "cell_type": "code",
   "execution_count": null,
   "id": "c7ef1a53-291f-4ba2-bacd-62da538129aa",
   "metadata": {},
   "outputs": [],
   "source": [
    "list(_69['Units '])"
   ]
  },
  {
   "cell_type": "code",
   "execution_count": null,
   "id": "c50a1e96-e972-446b-bb42-a9a6c851aa54",
   "metadata": {},
   "outputs": [],
   "source": [
    "pd.concat([\n",
    "    (_34['Parameter ']\n",
    " .str.replace('₁', '_1')\n",
    " .str.replace('₂', '_2')\n",
    " .str.replace('α', '\\\\alpha')\n",
    " .str.replace('β', '\\\\beta')\n",
    " .str.replace('μ', '\\\\mu')\n",
    " .str.replace('I₀', 'D_0')\n",
    ").apply(lambda x: f'${x.strip()}$'),\n",
    "    _34[[c for c in _34.columns if 'Parameter' not in c]]], axis=1)"
   ]
  },
  {
   "cell_type": "code",
   "execution_count": null,
   "id": "1f1bea08-9373-4e5a-9d43-55b5d3c79959",
   "metadata": {},
   "outputs": [],
   "source": []
  },
  {
   "cell_type": "code",
   "execution_count": null,
   "id": "1587a498-f8d4-479a-bc7a-116edcee2e64",
   "metadata": {},
   "outputs": [],
   "source": [
    "print(_56.to_latex())"
   ]
  },
  {
   "cell_type": "code",
   "execution_count": null,
   "id": "f852cec1-d4a4-4a98-814c-4d6f763a430f",
   "metadata": {},
   "outputs": [],
   "source": [
    "tomlkit.dumps(_56.set_index('Parameter ').transpose().to_dict())"
   ]
  },
  {
   "cell_type": "code",
   "execution_count": null,
   "id": "e288ee28-4264-467a-a2fb-3951f00c1ada",
   "metadata": {},
   "outputs": [],
   "source": [
    "new_param_definitions[symbols(list(_39.keys())[-2])]"
   ]
  },
  {
   "cell_type": "code",
   "execution_count": null,
   "id": "c0bd3f75-e2dd-44df-8116-da2190535c98",
   "metadata": {},
   "outputs": [],
   "source": [
    "print(tomlkit.dumps(_27))"
   ]
  },
  {
   "cell_type": "code",
   "execution_count": null,
   "id": "5610a4a4-aa92-4789-ad5c-6601eeba53d7",
   "metadata": {},
   "outputs": [],
   "source": [
    "model = mk_model(\n",
    "    nd_system | {D: Eq(Dp,\n",
    "                       Piecewise((5, Eq(sympy.floor(A) % 5, 0) & (T > 0.1)),\n",
    "                                 (nd_system[D].rhs, True))),\n",
    "                 A: Eq(A, 1)},\n",
    "    [tt, N, L, T, D, A],\n",
    "    {\n",
    "        p_1: 1, q: 0.2, p_2: 0.5,\n",
    "        r: 1, s: 1,\n",
    "        u: 1, v: 0.1, delta: 0.1,\n",
    "        ht: 1, D_0_s: 8,\n",
    "    })\n",
    "\n",
    "sol = solve_ivp(model, [0, 20], [2, 5, 1.5, 8, 0], max_step=0.05)\n",
    "df_3 = pd.DataFrame(\n",
    "    {'scaled days': sol.t} | {sym.name: sol.y[ix]\n",
    "                       for ix, sym in enumerate([N, L, T, D])}\n",
    ").set_index('scaled days')\n",
    "px.line(df_3)"
   ]
  },
  {
   "cell_type": "markdown",
   "id": "e35554d6-d41b-4359-a0c5-2ddcad2f099c",
   "metadata": {},
   "source": [
    "## Scratch"
   ]
  },
  {
   "cell_type": "code",
   "execution_count": null,
   "id": "db916bde-98c6-415f-abbe-80eb431a23ff",
   "metadata": {},
   "outputs": [],
   "source": [
    "kdl.ParseConfig(valueConverters=dict(\n",
    "    mg=lambda a, val: float(a)))"
   ]
  },
  {
   "cell_type": "code",
   "execution_count": null,
   "id": "05ef5945-1537-4759-a4fa-937594a764d7",
   "metadata": {},
   "outputs": [],
   "source": [
    "kdl.parse(Path('test.kdl').read_text(), config=_216)"
   ]
  },
  {
   "cell_type": "code",
   "execution_count": null,
   "id": "a18704be-524e-4866-a152-e2f6e75f6933",
   "metadata": {},
   "outputs": [],
   "source": [
    "subs"
   ]
  },
  {
   "cell_type": "code",
   "execution_count": null,
   "id": "fdb8f612-0c51-4d31-a71a-9feda6a0bfda",
   "metadata": {},
   "outputs": [],
   "source": [
    "1/7"
   ]
  },
  {
   "cell_type": "code",
   "execution_count": null,
   "id": "ad9a6c55-5676-4bcd-8145-40fc7ba82239",
   "metadata": {},
   "outputs": [],
   "source": [
    "list(new_system.values())[-1]"
   ]
  },
  {
   "cell_type": "code",
   "execution_count": null,
   "id": "695bc7fc-87b5-4713-9a4b-989587b59bf4",
   "metadata": {},
   "outputs": [],
   "source": [
    "t/day"
   ]
  },
  {
   "cell_type": "code",
   "execution_count": null,
   "id": "15bf6356-89df-4c54-9080-19a9ed48a31d",
   "metadata": {},
   "outputs": [],
   "source": [
    "new_system"
   ]
  },
  {
   "cell_type": "code",
   "execution_count": null,
   "id": "7b525490-e35f-4e83-a707-73bdcc1c926e",
   "metadata": {},
   "outputs": [],
   "source": [
    "integrate(list(new_system.values())[-2].rhs, t/day)"
   ]
  },
  {
   "cell_type": "code",
   "execution_count": null,
   "id": "ba1ab9eb-98a2-4f40-9348-cb5bdf83dec7",
   "metadata": {},
   "outputs": [],
   "source": [
    "list(_39.free_symbols)"
   ]
  },
  {
   "cell_type": "code",
   "execution_count": null,
   "id": "427560e9-3d5b-4d0b-abce-4cb7278f531e",
   "metadata": {},
   "outputs": [],
   "source": [
    "_39.args[1]"
   ]
  },
  {
   "cell_type": "markdown",
   "id": "ec35c5e8-781b-4614-9fb4-8907d21c9fbc",
   "metadata": {},
   "source": [
    "600,000 International Units/kg (0.037 mg/kg) IV q8hr infused over 15 minutes for a maximum 14 doses, THEN\n",
    "9 days of rest, followed by a maximum of 14 more doses\n",
    "Retreatment: Evaluate after 4 weeks, advisable only if tumor shrinkage and no retreatment contraindications (see package insert for details)\n",
    "\n",
    "This medication is given by injection into a vein over 15 minutes by a health care professional. It may also be given in other ways as directed by your doctor.This medication is usually given every 8 hours for 5 days in a row. However, your doctor may decide to delay or stop your treatment depending on how you respond to this drug. After this treatment period, you will be given time to rest and recover before getting more of this medication. A course of treatment may include up to 28 doses of this medication. To make sure that you receive each scheduled dose as directed, it is important to keep all of your medical appointments while receiving this medication. Depending on your response, your doctor may decide that a second course would be helpful.Dosage is based on your medical condition, weight, response to treatment, and your side effects.\n",
    "\n",
    "https://reference.medscape.com/drug/interleukin-2-proleukin-aldesleukin-342203#91"
   ]
  },
  {
   "cell_type": "markdown",
   "id": "72d66911-acdc-4810-867c-900e12b07a05",
   "metadata": {},
   "source": [
    "IL 2 was measured in the serum of patients, and a half-life of approximately 5 to 7 min was demonstrated with a second component of clearance of 30 to 120 min.\n",
    "\n",
    "https://pubmed.ncbi.nlm.nih.gov/3871099/"
   ]
  },
  {
   "cell_type": "code",
   "execution_count": null,
   "id": "461699b4-a318-4bbc-ac89-bc370c8c97b8",
   "metadata": {},
   "outputs": [],
   "source": [
    "def mk_IL2_change(mass, halflife):\n",
    "    dose = 0.037*mass #0.037 mg/kg\n",
    "    last_dose = None\n",
    "    max_levels = 0\n",
    "    print(dose)\n",
    "\n",
    "    def IL2_change(day, current_levels=dose):\n",
    "        #nonlocal last_dose\n",
    "        #nonlocal max_levels\n",
    "        hour_of_day = day*24%24\n",
    "        minute_of_hour = hour_of_day*60%60\n",
    "        decay = 0\n",
    "\n",
    "        #if last_dose is not None:\n",
    "        #    decay = -dose*np.log(2)/(2**((day-last_dose)/halflife)*halflife)\n",
    "\n",
    "        if 5 < day%14:\n",
    "            decay += -dose*np.log(2)/(2**((day-last_dose)/halflife)*halflife)\n",
    "            #return decay\n",
    "        elif hour_of_day%8 > 1:\n",
    "            decay += -dose*np.log(2)/(2**((minute_of_hour-(hour_of_day%8)*60-15)/halflife)*halflife)\n",
    "            #return decay\n",
    "        elif minute_of_hour > 15:\n",
    "            decay += -dose*np.log(2)/(2**((minute_of_hour-15)/halflife)*halflife)\n",
    "            #return decay\n",
    "        else:\n",
    "            #last_dose = day\n",
    "            #max_levels = current_levels\n",
    "            decay += dose/15\n",
    "\n",
    "        if decay < 0 and current_levels <= 0:\n",
    "            decay = 0\n",
    "\n",
    "        return decay\n",
    "    return IL2_change"
   ]
  },
  {
   "cell_type": "code",
   "execution_count": null,
   "id": "6029eb5b-88cd-432c-836d-3a503d7e0bc1",
   "metadata": {},
   "outputs": [],
   "source": [
    "def mk_IL2_change(mass, halflife):\n",
    "    dose = 0.037*mass #0.037 mg/kg\n",
    "    last_dose = None\n",
    "    max_levels = 0\n",
    "    print(dose)\n",
    "\n",
    "    def IL2_change(day, current_levels=0):\n",
    "        nonlocal last_dose\n",
    "        nonlocal max_levels\n",
    "        hour_of_day = day*24%24\n",
    "        minute_of_hour = hour_of_day*60%60\n",
    "        decay = 0\n",
    "\n",
    "        if last_dose is not None:\n",
    "            decay = -max_levels*np.log(2)/(2**((day-last_dose)/halflife)*halflife)\n",
    "\n",
    "        if 5 < day%14:\n",
    "            return 'break'\n",
    "        elif hour_of_day%8 > 1:\n",
    "            return 'waiting for next hour'\n",
    "        elif minute_of_hour > 15:\n",
    "            return 'already dosed'\n",
    "        else:\n",
    "            return 'dosing'\n",
    "    return IL2_change"
   ]
  },
  {
   "cell_type": "code",
   "execution_count": null,
   "id": "f3cce6e4-b552-48d2-a22f-932b9008c746",
   "metadata": {},
   "outputs": [],
   "source": [
    "pd.DataFrame(dict(day=np.linspace(0,14,4*24*14))).assign(\n",
    "    hour=lambda df: df['day']*24,\n",
    "    concentration=lambda df: np.vectorize(mk_IL2_change(60,7))(df['day']),\n",
    ").set_index('hour').drop(columns=['day'])"
   ]
  },
  {
   "cell_type": "code",
   "execution_count": null,
   "id": "a3029344-4b13-43ef-b8a2-fbabb76a1401",
   "metadata": {},
   "outputs": [],
   "source": [
    "px.line(_)"
   ]
  },
  {
   "cell_type": "code",
   "execution_count": null,
   "id": "03bc5ba9-6e4b-4b21-9e0e-df44eff8b375",
   "metadata": {},
   "outputs": [],
   "source": [
    "pd.DataFrame(dict(day=np.linspace(0,14,60*24*14))).assign(\n",
    "    hour=lambda df: df['day']*24,\n",
    "    change=lambda df: np.vectorize(mk_IL2_change(60,7))(df['day']),\n",
    "    concentration=lambda df: df['change'].cumsum(),\n",
    ").set_index('hour').drop(columns=['day'])"
   ]
  },
  {
   "cell_type": "code",
   "execution_count": null,
   "id": "9f76d8d6-253d-45ef-865e-b5e111c60f70",
   "metadata": {},
   "outputs": [],
   "source": [
    "px.line(_.loc[:24])"
   ]
  },
  {
   "cell_type": "code",
   "execution_count": null,
   "id": "8267817b-ada9-4203-916c-87fa6fe041fd",
   "metadata": {},
   "outputs": [],
   "source": [
    "def mk_IL2_total(mass, halflife):\n",
    "    dose = 0.037*mass #0.037 mg/kg\n",
    "    last_dose = None\n",
    "    max_levels = 0\n",
    "    print(dose)\n",
    "\n",
    "    def IL2_total(day):\n",
    "        nonlocal last_dose\n",
    "        nonlocal max_levels\n",
    "        hour_of_day = day*24%24\n",
    "        minute_of_hour = hour_of_day*60%60\n",
    "        decay = 0\n",
    "        levels = 0\n",
    "\n",
    "        #if last_dose is not None:\n",
    "        #    decay = -dose*np.log(2)/(2**((day-last_dose)/halflife)*halflife)\n",
    "\n",
    "        if 5 < day%14:\n",
    "            levels = max_levels*2**(-((day-last_dose)*60*24)/halflife)\n",
    "            #decay += -dose*np.log(2)/(2**((day-last_dose)/halflife)*halflife)\n",
    "            #return decay\n",
    "        elif hour_of_day%8 > 1:\n",
    "            levels = max_levels*2**(-((day-last_dose)*60*24)/halflife)\n",
    "            #decay += -dose*np.log(2)/(2**((minute_of_hour-(hour_of_day%8)*60-15)/halflife)*halflife)\n",
    "            #return decay\n",
    "        elif minute_of_hour > 15:\n",
    "            levels = max_levels*2**(-((day-last_dose)*60*24)/halflife)\n",
    "            #decay += -dose*np.log(2)/(2**((minute_of_hour-15)/halflife)*halflife)\n",
    "            #return decay\n",
    "        else:\n",
    "            last_dose = day\n",
    "            levels = dose*minute_of_hour/15\n",
    "            max_levels = levels\n",
    "\n",
    "        return levels\n",
    "    return IL2_total"
   ]
  },
  {
   "cell_type": "code",
   "execution_count": null,
   "id": "057adad2-8dcd-4514-8e8e-8cc6d2ff7cd1",
   "metadata": {},
   "outputs": [],
   "source": [
    "mk_IL2_total(60,7)"
   ]
  },
  {
   "cell_type": "code",
   "execution_count": null,
   "id": "617f3634-a839-4e5b-8fc4-807c6970bd02",
   "metadata": {},
   "outputs": [],
   "source": [
    "pd.Series({t:_28(t) for t in np.linspace(0,21,21*24*60*5+1)})"
   ]
  },
  {
   "cell_type": "code",
   "execution_count": null,
   "id": "090c3d3e-5dbb-4f3d-a281-2440fa99b622",
   "metadata": {},
   "outputs": [],
   "source": [
    "sns.lineplot(_)"
   ]
  },
  {
   "cell_type": "code",
   "execution_count": null,
   "id": "b388148e-a728-4512-b1c2-47be0acac404",
   "metadata": {},
   "outputs": [],
   "source": [
    "px.line(_)"
   ]
  },
  {
   "cell_type": "code",
   "execution_count": null,
   "id": "bc1fcb53-6f4a-418f-a8d6-3d70d30ac837",
   "metadata": {},
   "outputs": [],
   "source": [
    "pd.DataFrame(dict(day=np.linspace(0,14,60*24*14))).assign(\n",
    "    hour=lambda df: df['day']*24,\n",
    "    change=lambda df: np.vectorize(mk_IL2_change(60,7))(df['day']),\n",
    "    concentration=lambda df: df['change'].cumsum(),\n",
    ").set_index('hour').drop(columns=['day'])"
   ]
  },
  {
   "cell_type": "code",
   "execution_count": null,
   "id": "2563e93b-e8a4-45aa-bcfd-aa6aca4cda7d",
   "metadata": {},
   "outputs": [],
   "source": [
    "mk_IL2_change(60,7/60/24)"
   ]
  },
  {
   "cell_type": "code",
   "execution_count": null,
   "id": "a3a9956b-fca0-4d80-a67d-06275fce880d",
   "metadata": {},
   "outputs": [],
   "source": [
    "sol.y[0]"
   ]
  },
  {
   "cell_type": "code",
   "execution_count": null,
   "id": "65b85fd4-8901-4cef-95cc-c578ece635fc",
   "metadata": {},
   "outputs": [],
   "source": [
    "import datetime"
   ]
  },
  {
   "cell_type": "code",
   "execution_count": null,
   "id": "dba7a84b-113a-44b3-8c00-794b122f842f",
   "metadata": {},
   "outputs": [],
   "source": [
    "sol = solve_ivp(\n",
    "    mk_IL2_change(60,7),\n",
    "    [0, 1],\n",
    "    [0],\n",
    "    #t_eval=np.linspace(0,12/24,10000),\n",
    "    max_step=1/60/24,\n",
    "    method='DOP853',\n",
    "    rtol=1e-8,\n",
    "    atol=1e-8)\n",
    "df_1 = pd.DataFrame(\n",
    "    {'days': sol.t,\n",
    "     'concentration': sol.y[0]}\n",
    ").set_index('days')\n",
    "ax = sns.lineplot(df_1)\n",
    "display(ax)\n",
    "ax = None"
   ]
  },
  {
   "cell_type": "code",
   "execution_count": null,
   "id": "95af8700-6aba-4ffa-bd1b-731e52d8cdd1",
   "metadata": {},
   "outputs": [],
   "source": [
    "sol = solve_ivp(\n",
    "    lambda t, y: 1,\n",
    "    [1, 2],\n",
    "    [1],\n",
    "    #t_eval=np.linspace(0,12/24,10000),\n",
    "    max_step=1/10,\n",
    "    method='LSODA',\n",
    "    rtol=1e-8,\n",
    "    atol=1e-8)\n",
    "df_1 = pd.DataFrame(\n",
    "    {'days': sol.t,\n",
    "     'concentration': sol.y[0]}\n",
    ").set_index('days')\n",
    "ax = sns.lineplot(df_1)\n",
    "display(ax)\n",
    "ax = None"
   ]
  },
  {
   "cell_type": "code",
   "execution_count": null,
   "id": "e60b5d86-d227-4d9e-98a9-51cd7ca6667e",
   "metadata": {},
   "outputs": [],
   "source": [
    "0.037*60"
   ]
  },
  {
   "cell_type": "code",
   "execution_count": null,
   "id": "f8699d39-6d3b-4449-bf59-c9bae61386bf",
   "metadata": {},
   "outputs": [],
   "source": [
    "integrate(1, (t,1,2))"
   ]
  },
  {
   "cell_type": "code",
   "execution_count": null,
   "id": "8615d49d-3eae-4645-a17e-4448c33410b1",
   "metadata": {},
   "outputs": [],
   "source": [
    "_39.subs({_43[0]: S(7)/60, _46: 0.037*60, _43[1]: Piecewise(\n",
    "    (_43[1] % 8, _43[1]/24 < 5),\n",
    "    (_43[1], True),)\n",
    "})"
   ]
  },
  {
   "cell_type": "code",
   "execution_count": null,
   "id": "a8ff4063-25ea-4bbc-90e7-d6c8ed36ac75",
   "metadata": {},
   "outputs": [],
   "source": [
    "lambdify(_43[1], _120)"
   ]
  },
  {
   "cell_type": "code",
   "execution_count": null,
   "id": "d9c0c149-f418-46fe-9951-cd8c3045f57d",
   "metadata": {},
   "outputs": [],
   "source": [
    "pd.DataFrame(dict(day=np.linspace(0,14,100000))).assign(\n",
    "    hour=lambda df: df['day']*24,\n",
    "    concentration=lambda df: _121(df['hour']),\n",
    ")#.set_index('day')"
   ]
  },
  {
   "cell_type": "code",
   "execution_count": null,
   "id": "1c8bcfcf-20da-49f2-8af6-ee8b3640b8ec",
   "metadata": {},
   "outputs": [],
   "source": [
    "sns.lineplot(_, y='concentration', x='day')"
   ]
  },
  {
   "cell_type": "code",
   "execution_count": null,
   "id": "533081f0-6198-4491-8ba7-dd8f97085428",
   "metadata": {},
   "outputs": [],
   "source": [
    "integrate(list(new_system.values())[-1].rhs, t)"
   ]
  },
  {
   "cell_type": "code",
   "execution_count": null,
   "id": "0e5b3d89-1dbd-4a4f-8e9a-5d23028fad92",
   "metadata": {},
   "outputs": [],
   "source": [
    "[*list(_106.free_symbols), _106.args[1]]"
   ]
  },
  {
   "cell_type": "markdown",
   "id": "3bdaf477-7af0-4072-9ac3-a93a3a3aa16c",
   "metadata": {},
   "source": [
    "IV: initial course, 40-50 mg/kg divided over 2-5 days; 10-15 mg/kg every 7-10 days; or 3-5 mg/kg twice weekly\n",
    "\n",
    "https://reference.medscape.com/drug/cytoxan-cyclophosphamide-342214"
   ]
  },
  {
   "cell_type": "code",
   "execution_count": null,
   "id": "d61b038b-f7b8-4280-b8a6-016dc495025e",
   "metadata": {},
   "outputs": [],
   "source": [
    "def mk_cyclo_total(mass, halflife):\n",
    "    loading_dose = 40*mass # 40-50 mg/kg over 2-5 days\n",
    "    loading_duration = 2\n",
    "    recurring_dose = 10*mass # 10-15 mg/kg every 7-10 days\n",
    "    dose_period = 7\n",
    "    last_dose = None\n",
    "    max_levels = 0\n",
    "    had_recurring_dose = False\n",
    "\n",
    "    def calc_levels(day):\n",
    "        nonlocal last_dose\n",
    "        nonlocal max_levels\n",
    "        nonlocal had_recurring_dose\n",
    "\n",
    "        hour_of_day = day*24%24\n",
    "        minute_of_hour = hour_of_day*60%60\n",
    "        decay = 0\n",
    "        levels = 0\n",
    "\n",
    "        if day <= loading_duration:\n",
    "            levels = loading_dose/loading_duration\n",
    "            max_levels = levels\n",
    "            last_dose = day\n",
    "            had_recurring_dose = True\n",
    "        elif (day-loading_duration)%dose_period < 1 and not had_recurring_dose:\n",
    "            levels = recurring_dose\n",
    "            max_levels = levels\n",
    "            last_dose = day\n",
    "            had_recurring_dose = True\n",
    "        else:\n",
    "            levels = max_levels*2**(-(day-last_dose)/halflife)\n",
    "\n",
    "            if (day-loading_duration)%dose_period > 1:\n",
    "                had_recurring_dose = False\n",
    "\n",
    "        return levels\n",
    "    return calc_levels"
   ]
  },
  {
   "cell_type": "code",
   "execution_count": null,
   "id": "2bcc9414-054c-41bb-bbb6-4002dbfa2602",
   "metadata": {},
   "outputs": [],
   "source": [
    "mk_cyclo_total(60,0.5)"
   ]
  },
  {
   "cell_type": "code",
   "execution_count": null,
   "id": "b18c6293-8e66-4e9a-a435-2948af0b03b0",
   "metadata": {},
   "outputs": [],
   "source": [
    "pd.Series({t:_47(t) for t in np.linspace(0,21,21*24*60+1)})"
   ]
  },
  {
   "cell_type": "code",
   "execution_count": null,
   "id": "1447498b-de72-4a68-a229-b74f6fd80441",
   "metadata": {},
   "outputs": [],
   "source": [
    "px.line(_)"
   ]
  },
  {
   "cell_type": "code",
   "execution_count": null,
   "id": "7b42544b-7e8c-4616-8c8b-12f775c05cc3",
   "metadata": {},
   "outputs": [],
   "source": [
    "12*60*60"
   ]
  },
  {
   "cell_type": "code",
   "execution_count": null,
   "id": "6fb48089-db67-4ada-82a0-72bd7dbd2fdc",
   "metadata": {},
   "outputs": [],
   "source": [
    "43200/60/60/24"
   ]
  },
  {
   "cell_type": "code",
   "execution_count": null,
   "id": "8b27a46b-4296-49ff-8d7a-add2121dea76",
   "metadata": {},
   "outputs": [],
   "source": [
    "IL2_total = mk_IL2_total(81, 5)\n",
    "cyclo_total = mk_cyclo_total(81, 537/60/24)\n",
    "\n",
    "concentrations = pd.concat([\n",
    "    pd.Series({t: cyclo_total(t) for t in np.linspace(0,21,21*24*60*5+1)}).rename('Cyclophosphamide'),\n",
    "    pd.Series({t: IL2_total(t) for t in np.linspace(0,21,21*24*60*5+1)}).rename('Interleukin-2'),\n",
    "], axis=1).rename_axis('Day')"
   ]
  },
  {
   "cell_type": "code",
   "execution_count": null,
   "id": "1a139186-9bbf-4cb6-bc0c-725755da9c93",
   "metadata": {},
   "outputs": [],
   "source": [
    "f'{7/60/24:e}'"
   ]
  },
  {
   "cell_type": "code",
   "execution_count": null,
   "id": "5526401e-6e2a-402b-bfd9-6590b89e4f82",
   "metadata": {},
   "outputs": [],
   "source": [
    "Image(data=px\n",
    "      .line(concentrations.reset_index().melt(id_vars='Day', var_name='Drug', value_name='Concentration (mg)'),\n",
    "            x='Day', y='Concentration (mg)', facet_col='Drug',\n",
    "            height=600,\n",
    "            width=1000,\n",
    "            facet_col_spacing=0.04,\n",
    "            title='Drug Concentration Over Time (assuming patient weighs 60kg)',\n",
    "           )\n",
    "      .update_yaxes(matches=None, showticklabels=True)\n",
    "      .for_each_annotation(lambda a: a.update(text=a.text.split(\"=\")[-1]))\n",
    "      .to_image(format='png', scale=2))"
   ]
  },
  {
   "cell_type": "code",
   "execution_count": null,
   "id": "a9c225ea-01c0-42fe-bd09-e71a1be5e771",
   "metadata": {},
   "outputs": [],
   "source": [
    "0.037*60"
   ]
  },
  {
   "cell_type": "code",
   "execution_count": null,
   "id": "7aae29cc-48b8-46d5-9c6a-4271a709d16f",
   "metadata": {},
   "outputs": [],
   "source": [
    "_106.subs({_107[0]: 12, _107[2]: 5*60, _107[1]: _107[1] % 168})"
   ]
  },
  {
   "cell_type": "code",
   "execution_count": null,
   "id": "70271698-feab-42e3-baa6-7029a783f5ef",
   "metadata": {},
   "outputs": [],
   "source": [
    "lambdify(_107[1], _109)"
   ]
  },
  {
   "cell_type": "code",
   "execution_count": null,
   "id": "e074eddc-6730-4eaf-8194-7d1b605f2132",
   "metadata": {},
   "outputs": [],
   "source": [
    "pd.DataFrame(dict(day=np.linspace(0,14,10000))).assign(\n",
    "    hour=lambda df: df['day']*24,\n",
    "    concentration=lambda df: _110(df['hour']),\n",
    ")#.set_index('day')"
   ]
  },
  {
   "cell_type": "code",
   "execution_count": null,
   "id": "fbce3244-c28e-4535-a9d3-71ab32eb1528",
   "metadata": {},
   "outputs": [],
   "source": [
    "sns.lineplot(_, y='concentration', x='day')"
   ]
  },
  {
   "cell_type": "code",
   "execution_count": null,
   "id": "cbc168cd-0f9a-4b30-9a1e-6c6a1937f5cf",
   "metadata": {},
   "outputs": [],
   "source": [
    "model_def = tomlkit.loads(Path('model.toml').read_text())\n",
    "case = tomlkit.loads(Path('pillis-2008-no_tumor.toml').read_text())\n",
    "base_params = tomlkit.loads(Path('hybrid-parameters-mk01.toml').read_text())\n",
    "\n",
    "\n",
    "display(modeling_utils.params2df(base_params['parameters']))\n",
    "\n",
    "\n",
    "for risk_level, ivs in base_params['initial_values'].items():\n",
    "    subs = ( modeling_utils.mk_subs_from_params(base_params['parameters'])\n",
    "           | modeling_utils.mk_subs_from_params(ivs)\n",
    "           )\n",
    "    \n",
    "    display(modeling_utils.ivs2df(ivs))\n",
    "    \n",
    "    new_system = dict()\n",
    "    \n",
    "    for k, v in model_def['basic'].items():\n",
    "        equation = sympify(v, {c: Function(c) for c in ivs.keys()})\n",
    "        new_system[Function(k)(symbols('t'))] = Eq(symbols(k), equation)\n",
    "        #display(Eq(equation, equation.subs(subs)))\n",
    "        #sympy.printing.tree.print_tree(equation, assumptions=False)\n",
    "    \n",
    "    model = mk_model(\n",
    "        new_system,\n",
    "        [symbols('t')] + [Function(c)(symbols('t')) for c in ivs.keys()],\n",
    "        subs\n",
    "    )\n",
    "    \n",
    "    #print([ivs['N'], ivs['L'], ivs['T'], ivs['D']])\n",
    "    end_step = 300\n",
    "    end_step = 400\n",
    "    print(end_step)\n",
    "    sol = solve_ivp(model, [0, end_step], list(ivs.values()), max_step=0.01)\n",
    "    df_1 = pd.DataFrame(\n",
    "        {'days': sol.t\n",
    "        } | {sym: sol.y[ix]\n",
    "                           for ix, sym in enumerate(ivs.keys())}\n",
    "    ).set_index('days')\n",
    "    ax = sns.lineplot(df_1)\n",
    "    display(ax)\n",
    "    ax = None\n",
    "    \n",
    "    fig, axes = plt.subplots(1, 3, figsize=(10,2))\n",
    "    for ix, ax in enumerate(axes):\n",
    "        sns.lineplot(df_1[df_1.columns[ix]], ax=ax)\n",
    "        ax.set_title(df_1.columns[ix])\n",
    "        if ix == 0:\n",
    "            ax.yaxis.set_label_text('cells')\n",
    "        else:\n",
    "            ax.yaxis.label.set_visible(False)\n",
    "    display(fig)"
   ]
  },
  {
   "cell_type": "code",
   "execution_count": null,
   "id": "5a73c978-55d0-4586-86f7-2a08e56c5132",
   "metadata": {},
   "outputs": [],
   "source": [
    "model_def = tomlkit.loads(Path('model.toml').read_text())\n",
    "case = tomlkit.loads(Path('pillis-2008-high_risk.toml').read_text())\n",
    "\n",
    "base_params = tomlkit.loads(Path('pillis-2008.toml').read_text())\n",
    "\n",
    "subs = ( modeling_utils.mk_subs_from_params(base_params['parameters'])\n",
    "       | modeling_utils.mk_subs_from_params(case['initial_values'])\n",
    "       )\n",
    "\n",
    "#display(modeling_utils.ivs2df(case['initial_values']))\n",
    "#display(modeling_utils.params2df(base_params['parameters']))"
   ]
  },
  {
   "cell_type": "code",
   "execution_count": null,
   "id": "1ff2475c-dd5c-4a84-9699-d690bda91e41",
   "metadata": {},
   "outputs": [],
   "source": [
    "pd.concat([\n",
    "modeling_utils.ivs2df(base_params['initial_values']['low risk']).assign(Risk='Low'),\n",
    "modeling_utils.ivs2df(base_params['initial_values']['intermediate risk']).assign(Risk='Intermediate'),\n",
    "modeling_utils.ivs2df(base_params['initial_values']['high risk']).assign(Risk='High'),\n",
    "]).reset_index()"
   ]
  },
  {
   "cell_type": "code",
   "execution_count": null,
   "id": "3a6368c4-fab1-4085-9a0a-f54de8f2213a",
   "metadata": {},
   "outputs": [],
   "source": [
    "_147.melt(id_vars=['Parameter', 'Units', 'Description', 'Risk'])"
   ]
  },
  {
   "cell_type": "code",
   "execution_count": null,
   "id": "05da5bf4-6097-4cb5-9f68-02f02f1cd197",
   "metadata": {},
   "outputs": [],
   "source": [
    "_169.pivot(index=['Parameter', 'Units', 'Description', 'Risk'], columns='variable', values='value').unstack().reset_index().set_index('Parameter')"
   ]
  },
  {
   "cell_type": "code",
   "execution_count": null,
   "id": "59768900-3e23-43c8-a9d7-a51a334f9ce8",
   "metadata": {},
   "outputs": [],
   "source": [
    "print(_173.to_latex())"
   ]
  },
  {
   "cell_type": "code",
   "execution_count": null,
   "id": "9dfded2a-c340-4a6a-8df4-c860b4176b69",
   "metadata": {},
   "outputs": [],
   "source": [
    "modeling_utils.params2df(base_params['parameters'])"
   ]
  },
  {
   "cell_type": "code",
   "execution_count": null,
   "id": "e22c556e-3361-46cb-908f-1bac5ce96da8",
   "metadata": {},
   "outputs": [],
   "source": [
    "print(_131.to_latex(float_format='%.2e', bold_rows=True, ))"
   ]
  },
  {
   "cell_type": "code",
   "execution_count": null,
   "id": "ab85b11e-57c3-4593-a31f-ca46a5ca9feb",
   "metadata": {},
   "outputs": [],
   "source": [
    "new_system = dict()\n",
    "\n",
    "for k, v in model_def['basic'].items():\n",
    "    equation = sympify(v, {c: Function(c) for c in case['initial_values'].keys()})\n",
    "    new_system[Function(k)(symbols('t'))] = Eq(symbols(k), equation)\n",
    "    #display(Eq(equation, equation.subs(subs)))\n",
    "    #sympy.printing.tree.print_tree(equation, assumptions=False)\n",
    "\n",
    "\n",
    "\n",
    "model = mk_model(\n",
    "    new_system,\n",
    "    [symbols('t')] + [Function(c)(symbols('t')) for c in case['initial_values'].keys()],\n",
    "    subs\n",
    ")\n",
    "\n",
    "ivs = case['initial_values']\n",
    "#print([ivs['N'], ivs['L'], ivs['T'], ivs['D']])\n",
    "end_step = 300\n",
    "end_step = 400\n",
    "print(end_step)\n",
    "sol = solve_ivp(model, [0, end_step], list(case['initial_values'].values()), max_step=0.01)\n",
    "df_1 = pd.DataFrame(\n",
    "    {'days': sol.t\n",
    "    } | {sym: sol.y[ix]\n",
    "                       for ix, sym in enumerate(case['initial_values'].keys())}\n",
    ").set_index('days')\n",
    "sns.lineplot(df_1)\n",
    "\n",
    "fig, axes = plt.subplots(1, 3, figsize=(10,2))\n",
    "for ix, ax in enumerate(axes):\n",
    "    sns.lineplot(df_1[df_1.columns[ix]], ax=ax)\n",
    "    ax.set_title(df_1.columns[ix])\n",
    "    if ix == 0:\n",
    "        ax.yaxis.set_label_text('cells')\n",
    "    else:\n",
    "        ax.yaxis.label.set_visible(False)"
   ]
  },
  {
   "cell_type": "code",
   "execution_count": null,
   "id": "851aa142-e40c-4e09-b192-ddc938ef286f",
   "metadata": {},
   "outputs": [],
   "source": [
    "\n",
    "fig, axes = plt.subplots(1, 3, figsize=(10,2))\n",
    "for ix, ax in enumerate(axes):\n",
    "    sns.lineplot(df_1[df_1.columns[ix]], ax=ax)\n",
    "    ax.set_title(df_1.columns[ix])\n",
    "    if ix == 0:\n",
    "        ax.yaxis.set_label_text('cells')\n",
    "    else:\n",
    "        ax.yaxis.label.set_visible(False)"
   ]
  },
  {
   "cell_type": "code",
   "execution_count": null,
   "id": "2326b595-d062-4288-b8dd-207ad817af5f",
   "metadata": {},
   "outputs": [],
   "source": [
    "3/24"
   ]
  },
  {
   "cell_type": "code",
   "execution_count": null,
   "id": "16f31b98-2f85-433b-a685-05175b97974b",
   "metadata": {},
   "outputs": [],
   "source": [
    "fig"
   ]
  },
  {
   "cell_type": "code",
   "execution_count": null,
   "id": "2de51397-39f2-4ac3-b1b0-fa87c23fd909",
   "metadata": {},
   "outputs": [],
   "source": [
    "fig, axes = plt.subplots(1, 4, figsize=(10,5))\n",
    "for ix, ax in enumerate(axes):\n",
    "    sns.lineplot(df_1[df_1.columns[ix]][90:], ax=ax)\n",
    "    ax.set_title(df_1.columns[ix])"
   ]
  },
  {
   "cell_type": "code",
   "execution_count": null,
   "id": "59370117-e310-4789-a681-ebb9813b28d8",
   "metadata": {},
   "outputs": [],
   "source": [
    "df_1.diff()"
   ]
  },
  {
   "cell_type": "code",
   "execution_count": null,
   "id": "c28bdc6b-6ecf-4f24-b50b-346611b6ec37",
   "metadata": {},
   "outputs": [],
   "source": [
    "_112.rolling(1000).mean()"
   ]
  },
  {
   "cell_type": "code",
   "execution_count": null,
   "id": "10054bc2-f0e1-4213-baed-fb349c818513",
   "metadata": {},
   "outputs": [],
   "source": [
    "fig, axes = plt.subplots(1, 4, figsize=(10,5))\n",
    "for ix, ax in enumerate(axes):\n",
    "    sns.lineplot(df_1.diff()[df_1.columns[ix]], ax=ax)\n",
    "    ax.set_title(df_1.columns[ix])"
   ]
  },
  {
   "cell_type": "code",
   "execution_count": null,
   "id": "a42ef674-49cb-4aef-b5b9-b98a8dd1e8f9",
   "metadata": {},
   "outputs": [],
   "source": [
    "fig, axes = plt.subplots(1, 4)\n",
    "for ix, ax in enumerate(axes):\n",
    "    sns.lineplot(df_1[df_1.columns[ix]], ax=ax)"
   ]
  },
  {
   "cell_type": "code",
   "execution_count": null,
   "id": "2c34956e-16f1-4f02-a4b2-2747d7a8d2cb",
   "metadata": {},
   "outputs": [],
   "source": [
    "sns.lineplot(df_1.drop(columns=['T']))"
   ]
  },
  {
   "cell_type": "code",
   "execution_count": null,
   "id": "996ac4d8-5c39-4fbc-8d34-0cb7f2ba6020",
   "metadata": {},
   "outputs": [],
   "source": [
    "sns.lineplot(df_1.drop(columns=['T', 'N']))"
   ]
  },
  {
   "cell_type": "markdown",
   "id": "36e618fd-dc93-4baa-bf7f-360a9c788abd",
   "metadata": {},
   "source": [
    "$N(t+1.5) = 2N(t)$"
   ]
  },
  {
   "cell_type": "code",
   "execution_count": null,
   "id": "77297cde-ae96-4bb0-b8a3-efc7eb0d20d6",
   "metadata": {},
   "outputs": [],
   "source": [
    "t = symbols('t')"
   ]
  },
  {
   "cell_type": "code",
   "execution_count": null,
   "id": "3a16d55f-185e-43a5-b0a7-1c41636b4be5",
   "metadata": {},
   "outputs": [],
   "source": [
    "1*2**(2*t/3)"
   ]
  },
  {
   "cell_type": "code",
   "execution_count": null,
   "id": "d3df797d-2116-4571-ba16-2f9d4ec1cff4",
   "metadata": {},
   "outputs": [],
   "source": [
    "_29.diff(t)"
   ]
  },
  {
   "cell_type": "code",
   "execution_count": null,
   "id": "565864e3-228f-48cc-828c-42b863980d0f",
   "metadata": {},
   "outputs": [],
   "source": [
    "plot(\n",
    "    2**(2*t/3),\n",
    "    200/(1+exp(-0.4*(t-13))),\n",
    "    #200/(1+exp(-0.6*(t-10.3))),\n",
    "    #200/(1+exp(-0.8*(t-10.005))),\n",
    "    (t, 0, 10))"
   ]
  },
  {
   "cell_type": "code",
   "execution_count": null,
   "id": "a4a3940b-50e7-4a06-877e-7bbcef544f9c",
   "metadata": {},
   "outputs": [],
   "source": [
    "plot(\n",
    "    2**(2*t/3),\n",
    "    200/(1+exp(-0.4*(t-13))),\n",
    "    200/(1+exp(-0.6*(t-10.3))),\n",
    "    200/(1+exp(-0.8*(t-10.005))),\n",
    "    (t, 0, 15))"
   ]
  },
  {
   "cell_type": "code",
   "execution_count": null,
   "id": "ef5ac250-6adc-423b-b61d-3b7e44d5e0b9",
   "metadata": {},
   "outputs": [],
   "source": []
  },
  {
   "cell_type": "code",
   "execution_count": null,
   "id": "f9c99506-2d44-454a-878d-c79e2cc38c31",
   "metadata": {},
   "outputs": [],
   "source": [
    "for val, sub in parameter_subs.items():\n",
    "    print(sub,'=', val)"
   ]
  },
  {
   "cell_type": "code",
   "execution_count": null,
   "id": "46c63102-01bc-4174-8b31-cac22ffe95aa",
   "metadata": {},
   "outputs": [],
   "source": []
  }
 ],
 "metadata": {
  "kernelspec": {
   "display_name": "Python 3 (ipykernel)",
   "language": "python",
   "name": "python3"
  },
  "language_info": {
   "codemirror_mode": {
    "name": "ipython",
    "version": 3
   },
   "file_extension": ".py",
   "mimetype": "text/x-python",
   "name": "python",
   "nbconvert_exporter": "python",
   "pygments_lexer": "ipython3",
   "version": "3.10.12"
  }
 },
 "nbformat": 4,
 "nbformat_minor": 5
}
